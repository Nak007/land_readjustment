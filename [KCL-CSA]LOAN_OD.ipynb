{
 "cells": [
  {
   "cell_type": "code",
   "execution_count": 1,
   "metadata": {},
   "outputs": [
    {
     "ename": "ModuleNotFoundError",
     "evalue": "No module named 'impala'",
     "output_type": "error",
     "traceback": [
      "\u001b[1;31m---------------------------------------------------------------------------\u001b[0m",
      "\u001b[1;31mModuleNotFoundError\u001b[0m                       Traceback (most recent call last)",
      "\u001b[1;32m<ipython-input-1-a3f58359784c>\u001b[0m in \u001b[0;36m<module>\u001b[1;34m\u001b[0m\n\u001b[0;32m      7\u001b[0m \u001b[1;32mfrom\u001b[0m \u001b[0mdatetime\u001b[0m \u001b[1;32mimport\u001b[0m \u001b[0mdatetime\u001b[0m\u001b[1;33m,\u001b[0m \u001b[0mtimedelta\u001b[0m\u001b[1;33m\u001b[0m\u001b[1;33m\u001b[0m\u001b[0m\n\u001b[0;32m      8\u001b[0m \u001b[1;32mfrom\u001b[0m \u001b[0mdateutil\u001b[0m\u001b[1;33m.\u001b[0m\u001b[0mrelativedelta\u001b[0m \u001b[1;32mimport\u001b[0m \u001b[0mrelativedelta\u001b[0m\u001b[1;33m\u001b[0m\u001b[1;33m\u001b[0m\u001b[0m\n\u001b[1;32m----> 9\u001b[1;33m \u001b[1;32mfrom\u001b[0m \u001b[0meban\u001b[0m \u001b[1;32mimport\u001b[0m \u001b[0mEban\u001b[0m\u001b[1;33m\u001b[0m\u001b[1;33m\u001b[0m\u001b[0m\n\u001b[0m",
      "\u001b[1;32m~\\OneDrive - KASIKORNBANKGROUP\\Early NPL KCL\\KCL_CSA\\SQL_SCRIPT\\eban.py\u001b[0m in \u001b[0;36m<module>\u001b[1;34m\u001b[0m\n\u001b[0;32m     12\u001b[0m \u001b[1;32mimport\u001b[0m \u001b[0mpandas\u001b[0m \u001b[1;32mas\u001b[0m \u001b[0mpd\u001b[0m\u001b[1;33m\u001b[0m\u001b[1;33m\u001b[0m\u001b[0m\n\u001b[0;32m     13\u001b[0m \u001b[1;33m\u001b[0m\u001b[0m\n\u001b[1;32m---> 14\u001b[1;33m \u001b[1;32mfrom\u001b[0m \u001b[0mimpala\u001b[0m\u001b[1;33m.\u001b[0m\u001b[0mdbapi\u001b[0m \u001b[1;32mimport\u001b[0m \u001b[0mconnect\u001b[0m\u001b[1;33m\u001b[0m\u001b[1;33m\u001b[0m\u001b[0m\n\u001b[0m\u001b[0;32m     15\u001b[0m \u001b[1;33m\u001b[0m\u001b[0m\n\u001b[0;32m     16\u001b[0m \u001b[1;33m\u001b[0m\u001b[0m\n",
      "\u001b[1;31mModuleNotFoundError\u001b[0m: No module named 'impala'"
     ]
    }
   ],
   "source": [
    "import os\n",
    "import sys\n",
    "import timeit\n",
    "import pandas as pd\n",
    "import numpy as np\n",
    "\n",
    "from datetime import datetime, timedelta\n",
    "from dateutil.relativedelta import relativedelta\n",
    "from eban import Eban"
   ]
  },
  {
   "cell_type": "code",
   "execution_count": 2,
   "metadata": {},
   "outputs": [],
   "source": [
    "import os\n",
    "import sys\n",
    "import timeit\n",
    "import pandas as pd\n",
    "import numpy as np"
   ]
  },
  {
   "cell_type": "markdown",
   "metadata": {},
   "source": [
    "# Loan"
   ]
  },
  {
   "cell_type": "code",
   "execution_count": 3,
   "metadata": {},
   "outputs": [
    {
     "data": {
      "text/plain": [
       "DatetimeIndex(['2022-01-31', '2022-02-28', '2022-03-31', '2022-04-30',\n",
       "               '2022-05-31', '2022-06-30', '2022-07-31', '2022-08-31',\n",
       "               '2022-09-30', '2022-10-31'],\n",
       "              dtype='datetime64[ns]', freq='M')"
      ]
     },
     "execution_count": 3,
     "metadata": {},
     "output_type": "execute_result"
    }
   ],
   "source": [
    "cohort = pd.date_range(start='2022-01-31',periods=10,freq='M')\n",
    "cohort #billing date"
   ]
  },
  {
   "cell_type": "code",
   "execution_count": 35,
   "metadata": {},
   "outputs": [],
   "source": [
    "SQL_LOAN = \"\"\"\n",
    "with loan as (\n",
    "select pos_dt , ar_id , ip_id,  pd_grp_tp_cd, pd_grp , opn_dt , cls_dt \n",
    "    , dsbr_dt , pymt_due_dt, nxt_pymt_dt, lmt_amt\n",
    "    , dlq_dys, otsnd_bal, ptn_mm, ptn_yyyy\n",
    "    , row_number() over (partition by ar_id order by ar_id, nxt_pymt_dt, pos_dt asc) as rn_loan\n",
    "from datalake_view.vp_gnl_fnc_svc_ar \n",
    "where ptn_yyyy in (2021, 2022)\n",
    "    and opn_dt > '2021-11-01'\n",
    "    and spcl_prj_cd in ('ML6119','ML6118','ML6117','MCPG04','640','641','642'))\n",
    "\n",
    "\n",
    "select base.nxt_pymt_dt as pos_dt\n",
    "    , mls.ar_id\n",
    "    , mls.ip_id\n",
    "    , base.opn_dt\n",
    "    , base.dsbr_dt\n",
    "    , 'NULL' as pymy_due_dt\n",
    "    , base.nxt_pymt_dt\n",
    "    , base.lmt_amt\n",
    "    , base.FPD_date as pos_dt_fpd\n",
    "    , fpd.dlq_dys_fpd\n",
    "    , fpd.otsnd_bal_fpd\n",
    "    , base.enpl_date as pos_dt_enpl\n",
    "    , enpl.dlq_dys_enpl\n",
    "    , enpl.otsnd_bal_enpl\n",
    "    , mls.fnl_aprv_tms\n",
    "    , KWEB.brwr_brth_dt\n",
    "    , KWEB.ocp_dsc\n",
    "    , 'SE' as ocp_group\n",
    "    , 'NULL' as tot_verf_incm_amt\n",
    "    , KWEB.incm_amt\n",
    "    , 'NULL' as fnl_cr_lmt\n",
    "    , 'NULL' as fico_scor\n",
    "    , seg.MODL_SEG\n",
    "\n",
    "\n",
    "--KWEB\n",
    "from (select pos_dt, ip_id, apl_id, brwr_brth_dt, incm_amt, ocp_dsc\n",
    "    from DATATANK_VIEW.VP_DGTL_APL_LN_RGST) KWEB\n",
    "\n",
    "--MLS\n",
    "inner join (select IP_ID,nvl(apl_id,'0') as apl_id,max(pos_dt) as mx_dt,min(rgst_dt) as rgst_dt\n",
    "from DATATANK_VIEW.VP_DGTL_APL_LN_RGST\n",
    "where rgst_dt > '2021-11-01'\n",
    "group by IP_ID ,nvl(apl_id,'0')) SL\n",
    "on KWEB.IP_ID = SL.IP_ID\n",
    "    and KWEB.POS_DT = SL.MX_DT\n",
    "    and nvl(KWEB.apl_id,'0') = SL.apl_id\n",
    "    \n",
    "inner join (select M.ar_id, M.ip_id, M.ctr_id, M.pd_grp_tp_cd, M.aply_pd_cd, M.spcl_prj_cd\n",
    "    , M.fnl_aprv_tms, m.fnl_lmt_amt\n",
    "    from DATATANK_VIEW.VP_MLS_CTR_DTL M\n",
    "inner join (select CTR_ID,max(pos_dt) as mx_dt\n",
    "    from DATALAKE_VIEW.VP_MLS_CTR_DTL\n",
    "    where ptn_yyyy = '2022'\n",
    "        and spcl_prj_cd in ('ML6119','ML6118','ML6117','MCPG04','640','641','642')\n",
    "    group by CTR_ID) C\n",
    "\n",
    "where M.CTR_ID = C.CTR_ID\n",
    "    and M.POS_DT = C.MX_DT\n",
    "    and M.PTN_YYYY = '2022'\n",
    "    and M.spcl_prj_cd in ('ML6119','ML6118','ML6117','MCPG04','640','641','642')\n",
    ") MLS\n",
    "\n",
    "on (KWEB.apl_id = MLS.CTR_ID)\n",
    "\n",
    "\n",
    "--DPD\n",
    "inner join (select ar_id , ip_id,  pd_grp_tp_cd, pd_grp , opn_dt , nxt_pymt_dt, lmt_amt,dsbr_dt, pymt_due_dt\n",
    "    , date_add(nxt_pymt_dt,6) as FPD_date\n",
    "    , date_add(nxt_pymt_dt,90) as enpl_date\n",
    "    , ptn_mm, ptn_yyyy\n",
    "    from loan\n",
    "    where rn_loan = 1\n",
    "        and nxt_pymt_dt = '{cohort}'\n",
    ") as base\n",
    "on base.ar_id = MLS.ar_id\n",
    "\n",
    "\n",
    "left join (select pos_dt, ar_id\n",
    "    , dlq_dys as dlq_dys_fpd, otsnd_bal as otsnd_bal_fpd\n",
    "    from loan) as fpd\n",
    "on fpd.ar_id = base.ar_id\n",
    "    and fpd.pos_dt = base.FPD_date\n",
    "    \n",
    "left join (select pos_dt, ar_id\n",
    "    , dlq_dys as dlq_dys_enpl , otsnd_bal as otsnd_bal_enpl\n",
    "    from loan) as enpl\n",
    "on enpl.ar_id = base.ar_id\n",
    "    and enpl.pos_dt = base.enpl_date\n",
    "    \n",
    "LEFT JOIN (SELECT  IP_ID,MODL_SEG,PTN_YYYY,PTN_MM\n",
    "    FROM FRDEPT_SANDBOX.V_ISCORE)SEG\n",
    "ON cast(base.IP_ID as int) = SEG.IP_ID\n",
    "    AND seg.PTN_YYYY = FROM_TIMESTAMP(base.OPN_DT,'yyyy')\n",
    "    AND seg.PTN_MM =FROM_TIMESTAMP(base.OPN_DT,'MM')\n",
    "    \n",
    "order by mls.ar_id\"\"\""
   ]
  },
  {
   "cell_type": "code",
   "execution_count": 36,
   "metadata": {},
   "outputs": [
    {
     "name": "stdout",
     "output_type": "stream",
     "text": [
      "2022-11-30\n",
      "Execution times: 3:20:15.958423\n"
     ]
    }
   ],
   "source": [
    "for i in cohort:\n",
    "    cohort_dt = i.strftime('%Y-%m-%d')\n",
    "    print(cohort_dt)\n",
    "\n",
    "    start_time = timeit.default_timer()\n",
    "\n",
    "    FRDEPT_SANBOX = 'frdept_sandbox'\n",
    "    eban = Eban(db_name=FRDEPT_SANBOX)\n",
    "    eban.cursor.execute(\"SET request_pool = 'root.garage_pool';\")\n",
    "    eban.cursor.execute(SQL_LOAN.format(cohort=cohort_dt))\n",
    "    running_time = str(timedelta(minutes=timeit.default_timer() - start_time))\n",
    "\n",
    "    queried_data = eban.get_result()\n",
    "    eban.close_db()\n",
    "    print(f\"Execution times: {running_time}\")\n",
    "    download_path = os.path.join(os.getcwd(),\n",
    "                             'CSA ZIP',        # folder\n",
    "                             #'LOAN_'+cohort_dt+'_test.xlsx')      # file name\n",
    "                             'CSA_LOAN_'+cohort_dt+'.txt.gz')      # file name\n",
    "    #queried_data.to_csv(download_path,sep='|', index=False)\n",
    "    queried_data.to_csv(download_path,sep='|', index=False,compression='gzip')\n",
    "    #queried_data.to_excel(download_path,index=False)\n",
    "    queried_data.head(3)"
   ]
  },
  {
   "cell_type": "code",
   "execution_count": null,
   "metadata": {},
   "outputs": [],
   "source": []
  },
  {
   "cell_type": "markdown",
   "metadata": {},
   "source": [
    "### OD"
   ]
  },
  {
   "cell_type": "code",
   "execution_count": 26,
   "metadata": {},
   "outputs": [
    {
     "data": {
      "text/plain": [
       "DatetimeIndex(['2022-03-01', '2022-04-01', '2022-05-01', '2022-06-01',\n",
       "               '2022-07-01', '2022-08-01', '2022-09-01', '2022-10-01',\n",
       "               '2022-11-01'],\n",
       "              dtype='datetime64[ns]', freq='MS')"
      ]
     },
     "execution_count": 26,
     "metadata": {},
     "output_type": "execute_result"
    }
   ],
   "source": [
    "cohort = pd.date_range(start='2022-03-01',periods=9,freq='MS')\n",
    "cohort #open date"
   ]
  },
  {
   "cell_type": "code",
   "execution_count": 27,
   "metadata": {},
   "outputs": [],
   "source": [
    "fpd_date = ['2022-04-05','2022-05-06','2022-06-06','2022-07-06','2022-08-05','2022-09-06','2022-10-06','2022-11-04','2022-12-06']\n",
    "enpl_date = ['2022-06-29','2022-07-26','2022-08-29','2022-09-28','2022-10-28','2022-11-29','2022-12-29','2023-01-27','2023-02-28']"
   ]
  },
  {
   "cell_type": "code",
   "execution_count": 28,
   "metadata": {},
   "outputs": [
    {
     "name": "stdout",
     "output_type": "stream",
     "text": [
      "open date: 2022-03-01 00:00:00 FPD date: 2022-04-05 ENPL date: 2022-06-29 \n",
      "\n",
      "open date: 2022-04-01 00:00:00 FPD date: 2022-05-06 ENPL date: 2022-07-26 \n",
      "\n",
      "open date: 2022-05-01 00:00:00 FPD date: 2022-06-06 ENPL date: 2022-08-29 \n",
      "\n",
      "open date: 2022-06-01 00:00:00 FPD date: 2022-07-06 ENPL date: 2022-09-28 \n",
      "\n",
      "open date: 2022-07-01 00:00:00 FPD date: 2022-08-05 ENPL date: 2022-10-28 \n",
      "\n",
      "open date: 2022-08-01 00:00:00 FPD date: 2022-09-06 ENPL date: 2022-11-29 \n",
      "\n",
      "open date: 2022-09-01 00:00:00 FPD date: 2022-10-06 ENPL date: 2022-12-29 \n",
      "\n",
      "open date: 2022-10-01 00:00:00 FPD date: 2022-11-04 ENPL date: 2023-01-27 \n",
      "\n",
      "open date: 2022-11-01 00:00:00 FPD date: 2022-12-06 ENPL date: 2023-02-28 \n",
      "\n"
     ]
    }
   ],
   "source": [
    "for i,j,k in zip(cohort,fpd_date,enpl_date):\n",
    "    print('open date:',i,'FPD date:',j,'ENPL date:',k,\"\\n\")"
   ]
  },
  {
   "cell_type": "code",
   "execution_count": 8,
   "metadata": {},
   "outputs": [],
   "source": [
    "SQL_OD = \"\"\"\n",
    "with od as(select *\n",
    "from (select M.ar_id, M.opn_dt, M.tot_lmt_amt ,od_tp\n",
    "    , row_number() over(partition by m.ar_id order by m.ar_id, m.pos_dt) as rn_od\n",
    "    from datalake_view.V_PCB_AR_CA_DLY M\n",
    "    join datalake_view.v_pcb_ar_ca_lmt_dly D\n",
    "    on trunc(m.opn_dt,'MM') = '{cohort}' --first of month\n",
    "        and (m.coa_ac = '1202001' or m.od_lmt_f = 'Y')\n",
    "        and m.ar_id = d.ar_id\n",
    "        and d.od_tp in ('640','641','642')\n",
    "        and m.pos_dt = d.pos_dt) odod\n",
    "where rn_od = 1)\n",
    "\n",
    "\n",
    "select base.opn_dt as pos_dt\n",
    "    , mls.ar_id\n",
    "    , mls.ip_id\n",
    "    , base.opn_dt\n",
    "    , 'NULL' as dsbr_dt\n",
    "    , 'NULL' as pymt_due_dt\n",
    "    , 'NULL' as nxt_pymt_dt\n",
    "    , base.tot_lmt_amt\n",
    "    , base.FPD_date as pos_dt_fpd\n",
    "    , fpd.dlq_dys_fpd\n",
    "    , fpd.otsnd_bal_fpd\n",
    "    , base.enpl_date as pos_dt_enpl\n",
    "    , enpl.dlq_dys_enpl\n",
    "    , enpl.otsnd_bal_enpl\n",
    "    , mls.fnl_aprv_tms\n",
    "    , KWEB.brwr_brth_dt\n",
    "    , KWEB.ocp_dsc\n",
    "    , 'SE' as ocp_group\n",
    "    , 'NULL' as tot_verf_incm_amt\n",
    "    , KWEB.incm_amt\n",
    "    , 'NULL' as fnl_cr_lmt\n",
    "    , 'NULL' as fico_scor\n",
    "    , seg.MODL_SEG\n",
    "\n",
    "\n",
    "--KWEB\n",
    "from (select pos_dt, ip_id, apl_id, brwr_brth_dt, incm_amt, ocp_dsc\n",
    "    from DATATANK_VIEW.VP_DGTL_APL_LN_RGST) KWEB\n",
    "\n",
    "--MLS\n",
    "inner join (select IP_ID,nvl(apl_id,'0') as apl_id,max(pos_dt) as mx_dt,min(rgst_dt) as rgst_dt\n",
    "from DATATANK_VIEW.VP_DGTL_APL_LN_RGST\n",
    "where rgst_dt > '2021-11-16'\n",
    "group by IP_ID ,nvl(apl_id,'0')) SL\n",
    "on KWEB.IP_ID = SL.IP_ID\n",
    "    and KWEB.POS_DT = SL.MX_DT\n",
    "    and nvl(KWEB.apl_id,'0') = SL.apl_id\n",
    "    \n",
    "inner join (select M.ar_id, M.ip_id, M.ctr_id, M.pd_grp_tp_cd, M.aply_pd_cd, M.spcl_prj_cd\n",
    "    , M.fnl_aprv_tms, m.fnl_lmt_amt\n",
    "    from DATATANK_VIEW.VP_MLS_CTR_DTL M\n",
    "inner join (select CTR_ID,max(pos_dt) as mx_dt\n",
    "    from DATALAKE_VIEW.VP_MLS_CTR_DTL\n",
    "    where ptn_yyyy = '2022'\n",
    "        and spcl_prj_cd in ('ML6119','ML6118','ML6117','MCPG04','640','641','642')\n",
    "    group by CTR_ID) C\n",
    "\n",
    "where M.CTR_ID = C.CTR_ID\n",
    "    and M.POS_DT = C.MX_DT\n",
    "    and M.PTN_YYYY = '2022'\n",
    "    and M.spcl_prj_cd in ('ML6119','ML6118','ML6117','MCPG04','640','641','642')\n",
    ") MLS\n",
    "\n",
    "on (KWEB.apl_id = MLS.CTR_ID)\n",
    "\n",
    "\n",
    "-- DPD\n",
    "inner join (select ar_id, opn_dt, tot_lmt_amt\n",
    "    , '{fpd_date}' as FPD_date\n",
    "    , '{enpl_date}' as enpl_date\n",
    "    from od) as base\n",
    "on base.ar_id = MLS.ar_id\n",
    "\n",
    "\n",
    "left join (select pos_dt, ar_id\n",
    "    , dlq_dys as dlq_dys_fpd, otsnd_bal as otsnd_bal_fpd\n",
    "    from datalake_view.VP_LPM_AR_INF \n",
    "    where pos_dt = '{fpd_date}'\n",
    "    ) as fpd\n",
    "on fpd.ar_id = base.ar_id\n",
    "    \n",
    "left join (select pos_dt, ar_id\n",
    "    , dlq_dys as dlq_dys_enpl, otsnd_bal as otsnd_bal_enpl\n",
    "    from datalake_view.VP_LPM_AR_INF \n",
    "    where pos_dt = '{enpl_date}') as enpl\n",
    "on enpl.ar_id = base.ar_id\n",
    "    \n",
    "    \n",
    "    \n",
    "LEFT JOIN (SELECT  IP_ID,MODL_SEG,PTN_YYYY,PTN_MM\n",
    "    FROM FRDEPT_SANDBOX.V_ISCORE)SEG\n",
    "ON mls.ip_id = SEG.IP_ID\n",
    "    AND seg.PTN_YYYY = FROM_TIMESTAMP(base.OPN_DT,'yyyy')\n",
    "    AND seg.PTN_MM =FROM_TIMESTAMP(base.OPN_DT,'MM')\n",
    "order by mls.ar_id\"\"\""
   ]
  },
  {
   "cell_type": "code",
   "execution_count": 31,
   "metadata": {},
   "outputs": [
    {
     "name": "stdout",
     "output_type": "stream",
     "text": [
      "2022-10-01\n",
      "Execution times: 2:31:40.820388\n",
      "2022-11-01\n",
      "Execution times: 1:56:36.071169\n"
     ]
    }
   ],
   "source": [
    "for i,j,k in zip(cohort,fpd_date,enpl_date):\n",
    "    cohort_dt = i.strftime('%Y-%m-%d')\n",
    "    fpd_dt = datetime.strptime(j,'%Y-%m-%d').strftime('%Y-%m-%d')\n",
    "    enpl_dt = datetime.strptime(k,'%Y-%m-%d').strftime('%Y-%m-%d')\n",
    "    print(cohort_dt)\n",
    "\n",
    "    start_time = timeit.default_timer()\n",
    "\n",
    "    FRDEPT_SANBOX = 'frdept_sandbox'\n",
    "    eban = Eban(db_name=FRDEPT_SANBOX)\n",
    "    eban.cursor.execute(\"SET request_pool = 'root.garage_pool';\")\n",
    "    eban.cursor.execute(SQL_OD.format(cohort=cohort_dt,fpd_date=fpd_dt,enpl_date=enpl_dt))\n",
    "    running_time = str(timedelta(minutes=timeit.default_timer() - start_time))\n",
    "\n",
    "    queried_data = eban.get_result()\n",
    "    eban.close_db()\n",
    "    print(f\"Execution times: {running_time}\")\n",
    "    download_path = os.path.join(os.getcwd(),\n",
    "                             'CSA OUTPUT NEW',        # folder\n",
    "                             #'LOAN_'+cohort_dt+'_test.xlsx')      # file name\n",
    "                             'CSA_OD_'+cohort_dt+'.txt.gz')      # file name\n",
    "    #queried_data.to_csv(download_path,sep='|', index=False)\n",
    "    queried_data.to_csv(download_path,sep='|', index=False,compression='gzip')\n",
    "    #queried_data.to_excel(download_path,index=False)\n",
    "    queried_data.head(3)"
   ]
  },
  {
   "cell_type": "code",
   "execution_count": null,
   "metadata": {},
   "outputs": [],
   "source": []
  },
  {
   "cell_type": "code",
   "execution_count": null,
   "metadata": {},
   "outputs": [],
   "source": []
  },
  {
   "cell_type": "code",
   "execution_count": null,
   "metadata": {},
   "outputs": [],
   "source": []
  },
  {
   "cell_type": "code",
   "execution_count": null,
   "metadata": {},
   "outputs": [],
   "source": []
  },
  {
   "cell_type": "markdown",
   "metadata": {},
   "source": [
    "### _____________________________________"
   ]
  },
  {
   "cell_type": "code",
   "execution_count": 29,
   "metadata": {},
   "outputs": [],
   "source": [
    "cohort = pd.date_range(start='2022-10-01',periods=2,freq='MS')\n",
    "fpd_date = ['2022-11-04','2022-12-06']\n",
    "enpl_date = ['2023-01-27','2023-02-28']"
   ]
  },
  {
   "cell_type": "code",
   "execution_count": 30,
   "metadata": {},
   "outputs": [
    {
     "name": "stdout",
     "output_type": "stream",
     "text": [
      "open date: 2022-10-01 00:00:00 FPD date: 2022-11-04 ENPL date: 2023-01-27 \n",
      "\n",
      "open date: 2022-11-01 00:00:00 FPD date: 2022-12-06 ENPL date: 2023-02-28 \n",
      "\n"
     ]
    }
   ],
   "source": [
    "for i,j,k in zip(cohort,fpd_date,enpl_date):\n",
    "    print('open date:',i,'FPD date:',j,'ENPL date:',k,\"\\n\")"
   ]
  },
  {
   "cell_type": "code",
   "execution_count": null,
   "metadata": {
    "scrolled": false
   },
   "outputs": [],
   "source": [
    "#test sql script\n",
    "for i,j,k in zip(cohort,fpd_date,enpl_date):\n",
    "    cohort_dt = i.strftime('%Y-%m-%d')\n",
    "    fpd_dt = datetime.strptime(j,'%Y-%m-%d').strftime('%Y-%m-%d')\n",
    "    enpl_dt = datetime.strptime(k,'%Y-%m-%d').strftime('%Y-%m-%d')\n",
    "    print(cohort_dt,'\\n')\n",
    "    print(SQL_OD.format(cohort=cohort_dt,fpd_date=fpd_dt,enpl_date=enpl_dt),'\\n','-------------')"
   ]
  },
  {
   "cell_type": "code",
   "execution_count": null,
   "metadata": {},
   "outputs": [],
   "source": []
  }
 ],
 "metadata": {
  "kernelspec": {
   "display_name": "Python 3",
   "language": "python",
   "name": "python3"
  },
  "language_info": {
   "codemirror_mode": {
    "name": "ipython",
    "version": 3
   },
   "file_extension": ".py",
   "mimetype": "text/x-python",
   "name": "python",
   "nbconvert_exporter": "python",
   "pygments_lexer": "ipython3",
   "version": "3.7.4"
  }
 },
 "nbformat": 4,
 "nbformat_minor": 2
}
