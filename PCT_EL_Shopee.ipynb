{
 "cells": [
  {
   "cell_type": "code",
   "execution_count": 1,
   "id": "be2a33d1",
   "metadata": {},
   "outputs": [],
   "source": [
    "import pandas as pd, numpy as np, os\n",
    "from scipy import stats\n",
    "import matplotlib.pyplot as plt\n",
    "import matplotlib as mpl\n",
    "mpl.rcParams['axes.spines.right'] = False\n",
    "mpl.rcParams['axes.spines.top'] = False\n",
    "mpl.rcParams['figure.figsize'] = [6.0, 4.0]\n",
    "mpl.rcParams['font.size'] = 11\n",
    "mpl.rcParams['grid.alpha'] = 0\n",
    "mpl.rcParams['lines.linewidth'] = 3\n",
    "pd.options.display.max_columns=1000\n",
    "pd.options.display.max_rows=1000"
   ]
  },
  {
   "cell_type": "code",
   "execution_count": 2,
   "id": "c364065f",
   "metadata": {},
   "outputs": [
    {
     "data": {
      "text/plain": [
       "['.ipynb_checkpoints',\n",
       " 'data_shoppe_for_nak.txt.gz',\n",
       " 'PCT_EL_Shopee.ipynb',\n",
       " 'shopee_seller_loan_detail_20221209.csv',\n",
       " 'Untitled.ipynb']"
      ]
     },
     "execution_count": 2,
     "metadata": {},
     "output_type": "execute_result"
    }
   ],
   "source": [
    "os.listdir()"
   ]
  },
  {
   "cell_type": "code",
   "execution_count": 3,
   "id": "ba1dcadc",
   "metadata": {},
   "outputs": [],
   "source": [
    "loan = pd.read_csv(\"shopee_seller_loan_detail_20221209.csv\", sep=\",\")\n",
    "loan[\"key\"] = loan[[\"ip_id\",\"ar_id\"]].astype(str).apply(lambda x:\"_\".join(x),axis=1)\n",
    "loan.drop(columns=[\"ip_id\", \"ar_id\"], inplace=True)"
   ]
  },
  {
   "cell_type": "code",
   "execution_count": 4,
   "id": "927d3be6",
   "metadata": {},
   "outputs": [
    {
     "data": {
      "text/html": [
       "<div>\n",
       "<style scoped>\n",
       "    .dataframe tbody tr th:only-of-type {\n",
       "        vertical-align: middle;\n",
       "    }\n",
       "\n",
       "    .dataframe tbody tr th {\n",
       "        vertical-align: top;\n",
       "    }\n",
       "\n",
       "    .dataframe thead th {\n",
       "        text-align: right;\n",
       "    }\n",
       "</style>\n",
       "<table border=\"1\" class=\"dataframe\">\n",
       "  <thead>\n",
       "    <tr style=\"text-align: right;\">\n",
       "      <th></th>\n",
       "      <th>pos_dt</th>\n",
       "      <th>nxt_pymt_dt</th>\n",
       "      <th>opn_dt</th>\n",
       "      <th>dsbr_dt</th>\n",
       "      <th>first_pymt_dt</th>\n",
       "      <th>mob</th>\n",
       "      <th>dlq_dys</th>\n",
       "      <th>spcl_prj_cd</th>\n",
       "      <th>lmt_amt</th>\n",
       "      <th>otsnd_bal</th>\n",
       "      <th>eff_int_rate_tp_cd</th>\n",
       "      <th>eff_rate_pct</th>\n",
       "      <th>eff_sprd_rate_pct</th>\n",
       "      <th>mat_dt</th>\n",
       "      <th>ctr_ar_term</th>\n",
       "      <th>ctr_ar_term_uom_tp_cd</th>\n",
       "      <th>rn</th>\n",
       "      <th>ptn_date</th>\n",
       "      <th>key</th>\n",
       "    </tr>\n",
       "  </thead>\n",
       "  <tbody>\n",
       "    <tr>\n",
       "      <th>0</th>\n",
       "      <td>2022-12-08 00:00:00</td>\n",
       "      <td>2022-12-31 00:00:00</td>\n",
       "      <td>2021-12-11 00:00:00</td>\n",
       "      <td>2021-12-11 00:00:00</td>\n",
       "      <td>2021-12-31 00:00:00</td>\n",
       "      <td>12.0</td>\n",
       "      <td>69</td>\n",
       "      <td>SHPG10</td>\n",
       "      <td>160000.0</td>\n",
       "      <td>147840.56</td>\n",
       "      <td>8</td>\n",
       "      <td>18.13</td>\n",
       "      <td>12.03</td>\n",
       "      <td>2026-12-11 00:00:00</td>\n",
       "      <td>60</td>\n",
       "      <td>M</td>\n",
       "      <td>1</td>\n",
       "      <td>2022-12-08</td>\n",
       "      <td>1191957_100046477159</td>\n",
       "    </tr>\n",
       "    <tr>\n",
       "      <th>1</th>\n",
       "      <td>2022-12-08 00:00:00</td>\n",
       "      <td>2022-12-31 00:00:00</td>\n",
       "      <td>2022-01-07 00:00:00</td>\n",
       "      <td>2022-01-07 00:00:00</td>\n",
       "      <td>2022-01-31 00:00:00</td>\n",
       "      <td>11.0</td>\n",
       "      <td>8</td>\n",
       "      <td>SHPG10</td>\n",
       "      <td>120000.0</td>\n",
       "      <td>106517.92</td>\n",
       "      <td>8</td>\n",
       "      <td>18.13</td>\n",
       "      <td>12.03</td>\n",
       "      <td>2027-01-07 00:00:00</td>\n",
       "      <td>60</td>\n",
       "      <td>M</td>\n",
       "      <td>1</td>\n",
       "      <td>2022-12-08</td>\n",
       "      <td>24456331_100047124608</td>\n",
       "    </tr>\n",
       "    <tr>\n",
       "      <th>2</th>\n",
       "      <td>2022-12-08 00:00:00</td>\n",
       "      <td>2022-12-31 00:00:00</td>\n",
       "      <td>2022-06-02 00:00:00</td>\n",
       "      <td>2022-06-02 00:00:00</td>\n",
       "      <td>2022-06-30 00:00:00</td>\n",
       "      <td>6.0</td>\n",
       "      <td>0</td>\n",
       "      <td>SHPG10</td>\n",
       "      <td>100000.0</td>\n",
       "      <td>93206.78</td>\n",
       "      <td>8</td>\n",
       "      <td>21.13</td>\n",
       "      <td>15.03</td>\n",
       "      <td>2027-06-01 00:00:00</td>\n",
       "      <td>60</td>\n",
       "      <td>M</td>\n",
       "      <td>1</td>\n",
       "      <td>2022-12-08</td>\n",
       "      <td>17170302_100051565384</td>\n",
       "    </tr>\n",
       "  </tbody>\n",
       "</table>\n",
       "</div>"
      ],
      "text/plain": [
       "                pos_dt          nxt_pymt_dt               opn_dt  \\\n",
       "0  2022-12-08 00:00:00  2022-12-31 00:00:00  2021-12-11 00:00:00   \n",
       "1  2022-12-08 00:00:00  2022-12-31 00:00:00  2022-01-07 00:00:00   \n",
       "2  2022-12-08 00:00:00  2022-12-31 00:00:00  2022-06-02 00:00:00   \n",
       "\n",
       "               dsbr_dt        first_pymt_dt   mob  dlq_dys spcl_prj_cd  \\\n",
       "0  2021-12-11 00:00:00  2021-12-31 00:00:00  12.0       69      SHPG10   \n",
       "1  2022-01-07 00:00:00  2022-01-31 00:00:00  11.0        8      SHPG10   \n",
       "2  2022-06-02 00:00:00  2022-06-30 00:00:00   6.0        0      SHPG10   \n",
       "\n",
       "    lmt_amt  otsnd_bal  eff_int_rate_tp_cd  eff_rate_pct  eff_sprd_rate_pct  \\\n",
       "0  160000.0  147840.56                   8         18.13              12.03   \n",
       "1  120000.0  106517.92                   8         18.13              12.03   \n",
       "2  100000.0   93206.78                   8         21.13              15.03   \n",
       "\n",
       "                mat_dt  ctr_ar_term ctr_ar_term_uom_tp_cd  rn    ptn_date  \\\n",
       "0  2026-12-11 00:00:00           60                     M   1  2022-12-08   \n",
       "1  2027-01-07 00:00:00           60                     M   1  2022-12-08   \n",
       "2  2027-06-01 00:00:00           60                     M   1  2022-12-08   \n",
       "\n",
       "                     key  \n",
       "0   1191957_100046477159  \n",
       "1  24456331_100047124608  \n",
       "2  17170302_100051565384  "
      ]
     },
     "execution_count": 4,
     "metadata": {},
     "output_type": "execute_result"
    }
   ],
   "source": [
    "loan.head(3)"
   ]
  },
  {
   "cell_type": "markdown",
   "id": "83603e1e",
   "metadata": {},
   "source": [
    "Kasikornbank\t\n",
    "- MOR=6.34\t\n",
    "- MLR=5.97\t\n",
    "- MRR=6.10"
   ]
  },
  {
   "cell_type": "markdown",
   "id": "575765bb",
   "metadata": {},
   "source": [
    "**Check**\n",
    "- why otsnd_bal > lmt_amt ?\n",
    "- What eff_int_rate_tp_cd = 11 is ?"
   ]
  },
  {
   "cell_type": "code",
   "execution_count": 5,
   "id": "410d5fbd",
   "metadata": {},
   "outputs": [],
   "source": [
    "def installment(p, r, mth, decimal=0):\n",
    "    return np.round(p*r/(1-(1/(1+r)**mth)),decimal)"
   ]
  },
  {
   "cell_type": "code",
   "execution_count": 6,
   "id": "354450c8",
   "metadata": {},
   "outputs": [],
   "source": [
    "loan.loc[loan[\"eff_rate_pct\"]==0,\"eff_rate_pct\"] = loan[\"eff_rate_pct\"].mean()\n",
    "loan[\"m_rate\"] = loan[\"eff_rate_pct\"]/12/100\n",
    "loan[\"instl_amt\"]   = loan[[\"lmt_amt\",\"m_rate\",\"ctr_ar_term\"]].apply(lambda x:installment(*x),axis=1)\n",
    "loan[\"tot_pmt_amt\"] = loan[\"instl_amt\"] * loan[\"ctr_ar_term\"]"
   ]
  },
  {
   "cell_type": "code",
   "execution_count": 29,
   "id": "2265fa90",
   "metadata": {
    "scrolled": false
   },
   "outputs": [
    {
     "data": {
      "image/png": "[encoded data removed]",
      "text/plain": [
       "<Figure size 432x288 with 1 Axes>"
      ]
     },
     "metadata": {
      "needs_background": "light"
     },
     "output_type": "display_data"
    }
   ],
   "source": [
    "plt.hist(np.clip(loan[\"tot_pmt_amt\"]/loan[\"lmt_amt\"],0,1.8), \n",
    "         bins=20, density=True, ec=\"grey\", color=\"#FEA47F\")\n",
    "plt.xlabel(\"Payment-to-Limit ratio\", fontsize=12)\n",
    "plt.ylabel(\"Density\", fontsize=12)\n",
    "plt.tight_layout()"
   ]
  },
  {
   "cell_type": "markdown",
   "id": "459fd9c4",
   "metadata": {},
   "source": [
    "## Rules\n",
    "$RAROC = \\frac{Revenue - Expense - ROC - EL}{EC}$\n",
    "- ROC : BIBOR (1Y) = 1.89643%\n",
    "- Expense : Fixed deposit (1Y) = 0.70%"
   ]
  },
  {
   "cell_type": "code",
   "execution_count": 13,
   "id": "9a113a5d",
   "metadata": {},
   "outputs": [],
   "source": [
    "X = pd.read_csv('data_shoppe_for_nak.txt.gz', low_memory=True, sep=\"|\")\n",
    "X[\"fg_rule0\"] = 1\n",
    "X = X.loc[X[\"opn_mth\"]<=202206].reset_index(drop=True)"
   ]
  },
  {
   "cell_type": "code",
   "execution_count": 14,
   "id": "7c3e4ebf",
   "metadata": {},
   "outputs": [],
   "source": [
    "X = X.merge(loan[[\"key\",\"m_rate\",\"instl_amt\",\n",
    "                  \"ctr_ar_term\",\"tot_pmt_amt\"]], on=\"key\", how=\"left\")"
   ]
  },
  {
   "cell_type": "code",
   "execution_count": 15,
   "id": "71920b07",
   "metadata": {
    "scrolled": false
   },
   "outputs": [],
   "source": [
    "dok = [\"n_app\",\"n_60+M4\",\"n_NPL\",\n",
    "       \"a_app\",\"a_60+M4\",\"a_NPL\", \n",
    "       \"eff_rate\", \"revenue\", \"n_terms\"]\n",
    "dok = {key:[] for key in dok}\n",
    "\n",
    "f60 = X[\"f60+M04\"].values\n",
    "f90 = X[\"f90+ever\"].values\n",
    "os  = X[\"lmt_amt\"].values\n",
    "efr = X[\"m_rate\"].values\n",
    "pmt = X[\"tot_pmt_amt\"].values\n",
    "ctr = X[\"ctr_ar_term\"].values\n",
    "factor = 1/10**6\n",
    "\n",
    "for n in range(10):\n",
    "    rule = X[f\"fg_rule{n}\"].values\n",
    "    dok[\"n_app\"] += [rule.sum()]\n",
    "    dok[\"a_app\"] += [os[rule==1].sum()*factor]\n",
    "    \n",
    "    dok[\"n_60+M4\"] += [np.nansum(f60[rule==1])]\n",
    "    dok[\"a_60+M4\"] += [os[(rule + f60)==2].sum()*factor]\n",
    "    dok[\"n_NPL\"]   += [np.nansum(f90[rule==1])]\n",
    "    dok[\"a_NPL\"]   += [os[(rule + f90)==2].sum()*factor]\n",
    "    \n",
    "    dok[\"revenue\"]  += [pmt[rule==1].sum()*factor]\n",
    "    dok[\"eff_rate\"] += [efr[rule==1].mean()*12]\n",
    "    dok[\"n_terms\"]  += [ctr[rule==1].mean()]"
   ]
  },
  {
   "cell_type": "code",
   "execution_count": 74,
   "id": "e38647a7",
   "metadata": {},
   "outputs": [],
   "source": [
    "a = pd.DataFrame(dok)\n",
    "a[\"%app\"]   = a[\"n_app\"]/max(a[\"n_app\"])\n",
    "a[\"%n_NPL\"] = a[\"n_NPL\"]/a[\"n_app\"]\n",
    "a[\"%a_NPL\"] = a[\"a_NPL\"]/a[\"a_app\"]"
   ]
  },
  {
   "cell_type": "code",
   "execution_count": 75,
   "id": "412221b9",
   "metadata": {},
   "outputs": [
    {
     "data": {
      "text/html": [
       "<div>\n",
       "<style scoped>\n",
       "    .dataframe tbody tr th:only-of-type {\n",
       "        vertical-align: middle;\n",
       "    }\n",
       "\n",
       "    .dataframe tbody tr th {\n",
       "        vertical-align: top;\n",
       "    }\n",
       "\n",
       "    .dataframe thead th {\n",
       "        text-align: right;\n",
       "    }\n",
       "</style>\n",
       "<table border=\"1\" class=\"dataframe\">\n",
       "  <thead>\n",
       "    <tr style=\"text-align: right;\">\n",
       "      <th></th>\n",
       "      <th>n_app</th>\n",
       "      <th>n_60+M4</th>\n",
       "      <th>n_NPL</th>\n",
       "      <th>a_app</th>\n",
       "      <th>a_60+M4</th>\n",
       "      <th>a_NPL</th>\n",
       "      <th>eff_rate</th>\n",
       "      <th>revenue</th>\n",
       "      <th>n_terms</th>\n",
       "      <th>%app</th>\n",
       "      <th>%n_NPL</th>\n",
       "      <th>%a_NPL</th>\n",
       "    </tr>\n",
       "  </thead>\n",
       "  <tbody>\n",
       "    <tr>\n",
       "      <th>0</th>\n",
       "      <td>344577.0</td>\n",
       "      <td>38066.0</td>\n",
       "      <td>83889.0</td>\n",
       "      <td>81922.211</td>\n",
       "      <td>8516.493</td>\n",
       "      <td>23706.635</td>\n",
       "      <td>0.1773</td>\n",
       "      <td>122533.8938</td>\n",
       "      <td>56.6508</td>\n",
       "      <td>1.0000</td>\n",
       "      <td>0.2435</td>\n",
       "      <td>0.2894</td>\n",
       "    </tr>\n",
       "    <tr>\n",
       "      <th>1</th>\n",
       "      <td>326022.0</td>\n",
       "      <td>33943.0</td>\n",
       "      <td>78743.0</td>\n",
       "      <td>80985.263</td>\n",
       "      <td>8312.592</td>\n",
       "      <td>23448.593</td>\n",
       "      <td>0.1764</td>\n",
       "      <td>121070.3893</td>\n",
       "      <td>56.5428</td>\n",
       "      <td>0.9462</td>\n",
       "      <td>0.2415</td>\n",
       "      <td>0.2895</td>\n",
       "    </tr>\n",
       "    <tr>\n",
       "      <th>2</th>\n",
       "      <td>293207.0</td>\n",
       "      <td>27239.0</td>\n",
       "      <td>69896.0</td>\n",
       "      <td>77736.132</td>\n",
       "      <td>7622.730</td>\n",
       "      <td>22498.993</td>\n",
       "      <td>0.1747</td>\n",
       "      <td>116010.4477</td>\n",
       "      <td>56.2640</td>\n",
       "      <td>0.8509</td>\n",
       "      <td>0.2384</td>\n",
       "      <td>0.2894</td>\n",
       "    </tr>\n",
       "    <tr>\n",
       "      <th>3</th>\n",
       "      <td>225181.0</td>\n",
       "      <td>15598.0</td>\n",
       "      <td>50329.0</td>\n",
       "      <td>55459.074</td>\n",
       "      <td>3817.032</td>\n",
       "      <td>15014.840</td>\n",
       "      <td>0.1719</td>\n",
       "      <td>82168.6267</td>\n",
       "      <td>55.3320</td>\n",
       "      <td>0.6535</td>\n",
       "      <td>0.2235</td>\n",
       "      <td>0.2707</td>\n",
       "    </tr>\n",
       "    <tr>\n",
       "      <th>4</th>\n",
       "      <td>201381.0</td>\n",
       "      <td>11936.0</td>\n",
       "      <td>44965.0</td>\n",
       "      <td>52111.393</td>\n",
       "      <td>3268.073</td>\n",
       "      <td>14154.653</td>\n",
       "      <td>0.1700</td>\n",
       "      <td>76999.4023</td>\n",
       "      <td>54.9477</td>\n",
       "      <td>0.5844</td>\n",
       "      <td>0.2233</td>\n",
       "      <td>0.2716</td>\n",
       "    </tr>\n",
       "    <tr>\n",
       "      <th>5</th>\n",
       "      <td>185702.0</td>\n",
       "      <td>9721.0</td>\n",
       "      <td>40741.0</td>\n",
       "      <td>47193.165</td>\n",
       "      <td>2572.382</td>\n",
       "      <td>12686.314</td>\n",
       "      <td>0.1689</td>\n",
       "      <td>69526.6073</td>\n",
       "      <td>54.5850</td>\n",
       "      <td>0.5389</td>\n",
       "      <td>0.2194</td>\n",
       "      <td>0.2688</td>\n",
       "    </tr>\n",
       "    <tr>\n",
       "      <th>6</th>\n",
       "      <td>174650.0</td>\n",
       "      <td>8281.0</td>\n",
       "      <td>37843.0</td>\n",
       "      <td>42170.782</td>\n",
       "      <td>1922.367</td>\n",
       "      <td>11263.143</td>\n",
       "      <td>0.1685</td>\n",
       "      <td>62015.2039</td>\n",
       "      <td>54.3142</td>\n",
       "      <td>0.5069</td>\n",
       "      <td>0.2167</td>\n",
       "      <td>0.2671</td>\n",
       "    </tr>\n",
       "    <tr>\n",
       "      <th>7</th>\n",
       "      <td>161174.0</td>\n",
       "      <td>6686.0</td>\n",
       "      <td>34248.0</td>\n",
       "      <td>38596.752</td>\n",
       "      <td>1529.214</td>\n",
       "      <td>10202.179</td>\n",
       "      <td>0.1674</td>\n",
       "      <td>56574.7400</td>\n",
       "      <td>53.9659</td>\n",
       "      <td>0.4677</td>\n",
       "      <td>0.2125</td>\n",
       "      <td>0.2643</td>\n",
       "    </tr>\n",
       "    <tr>\n",
       "      <th>8</th>\n",
       "      <td>144631.0</td>\n",
       "      <td>5109.0</td>\n",
       "      <td>31204.0</td>\n",
       "      <td>34777.330</td>\n",
       "      <td>1140.953</td>\n",
       "      <td>9301.881</td>\n",
       "      <td>0.1657</td>\n",
       "      <td>50797.3047</td>\n",
       "      <td>53.4816</td>\n",
       "      <td>0.4197</td>\n",
       "      <td>0.2157</td>\n",
       "      <td>0.2675</td>\n",
       "    </tr>\n",
       "    <tr>\n",
       "      <th>9</th>\n",
       "      <td>126429.0</td>\n",
       "      <td>3575.0</td>\n",
       "      <td>27744.0</td>\n",
       "      <td>31960.676</td>\n",
       "      <td>900.610</td>\n",
       "      <td>8725.462</td>\n",
       "      <td>0.1633</td>\n",
       "      <td>46503.4484</td>\n",
       "      <td>52.8892</td>\n",
       "      <td>0.3669</td>\n",
       "      <td>0.2194</td>\n",
       "      <td>0.2730</td>\n",
       "    </tr>\n",
       "  </tbody>\n",
       "</table>\n",
       "</div>"
      ],
      "text/plain": [
       "      n_app  n_60+M4    n_NPL      a_app   a_60+M4      a_NPL  eff_rate  \\\n",
       "0  344577.0  38066.0  83889.0  81922.211  8516.493  23706.635    0.1773   \n",
       "1  326022.0  33943.0  78743.0  80985.263  8312.592  23448.593    0.1764   \n",
       "2  293207.0  27239.0  69896.0  77736.132  7622.730  22498.993    0.1747   \n",
       "3  225181.0  15598.0  50329.0  55459.074  3817.032  15014.840    0.1719   \n",
       "4  201381.0  11936.0  44965.0  52111.393  3268.073  14154.653    0.1700   \n",
       "5  185702.0   9721.0  40741.0  47193.165  2572.382  12686.314    0.1689   \n",
       "6  174650.0   8281.0  37843.0  42170.782  1922.367  11263.143    0.1685   \n",
       "7  161174.0   6686.0  34248.0  38596.752  1529.214  10202.179    0.1674   \n",
       "8  144631.0   5109.0  31204.0  34777.330  1140.953   9301.881    0.1657   \n",
       "9  126429.0   3575.0  27744.0  31960.676   900.610   8725.462    0.1633   \n",
       "\n",
       "       revenue  n_terms    %app  %n_NPL  %a_NPL  \n",
       "0  122533.8938  56.6508  1.0000  0.2435  0.2894  \n",
       "1  121070.3893  56.5428  0.9462  0.2415  0.2895  \n",
       "2  116010.4477  56.2640  0.8509  0.2384  0.2894  \n",
       "3   82168.6267  55.3320  0.6535  0.2235  0.2707  \n",
       "4   76999.4023  54.9477  0.5844  0.2233  0.2716  \n",
       "5   69526.6073  54.5850  0.5389  0.2194  0.2688  \n",
       "6   62015.2039  54.3142  0.5069  0.2167  0.2671  \n",
       "7   56574.7400  53.9659  0.4677  0.2125  0.2643  \n",
       "8   50797.3047  53.4816  0.4197  0.2157  0.2675  \n",
       "9   46503.4484  52.8892  0.3669  0.2194  0.2730  "
      ]
     },
     "execution_count": 75,
     "metadata": {},
     "output_type": "execute_result"
    }
   ],
   "source": [
    "np.round(a.astype(float),4)"
   ]
  },
  {
   "cell_type": "code",
   "execution_count": 18,
   "id": "c61facfb",
   "metadata": {},
   "outputs": [
    {
     "data": {
      "image/png": "[encoded data removed]",
      "text/plain": [
       "<Figure size 432x288 with 1 Axes>"
      ]
     },
     "metadata": {
      "needs_background": "light"
     },
     "output_type": "display_data"
    }
   ],
   "source": [
    "plt.plot(a[\"%n_NPL\"]*100, c=\"blue\")\n",
    "plt.ylabel(\"% NPL app\")\n",
    "plt.xlabel(\"Rules\")\n",
    "plt.tight_layout()"
   ]
  },
  {
   "cell_type": "code",
   "execution_count": 19,
   "id": "c0ac30e2",
   "metadata": {},
   "outputs": [
    {
     "data": {
      "image/png": "[encoded data removed]",
      "text/plain": [
       "<Figure size 432x288 with 1 Axes>"
      ]
     },
     "metadata": {
      "needs_background": "light"
     },
     "output_type": "display_data"
    }
   ],
   "source": [
    "plt.plot(a[\"%a_NPL\"]*100, c=\"red\")\n",
    "plt.ylabel(\"% NPL O/S\")\n",
    "plt.xlabel(\"Rules\")\n",
    "plt.tight_layout()"
   ]
  },
  {
   "cell_type": "markdown",
   "id": "b92e5f66",
   "metadata": {},
   "source": [
    "## Method 1: Amount"
   ]
  },
  {
   "cell_type": "code",
   "execution_count": 88,
   "id": "85171877",
   "metadata": {},
   "outputs": [],
   "source": [
    "def EcoCapital(mean, std, p=99, os=1, random_state=0, bins=30):\n",
    "    \n",
    "    rnd = np.random.RandomState(random_state)\n",
    "    losses   = rnd.normal(mean, std, size=10000)-1\n",
    "    losses   = np.clip(losses, 0, 1) * os\n",
    "    exp_loss = np.mean(losses)\n",
    "    max_pct  = np.percentile(losses, p)\n",
    "    capital  = max_pct - exp_loss\n",
    " \n",
    "    ax = plt.subplots(1,1)[1]\n",
    "    ax.hist(losses, bins=bins, ec=\"grey\", \n",
    "            color=\"#FEA47F\", density=True)\n",
    "    label = \"EL(x=0.50) = {:,.2f}\".format(exp_loss)\n",
    "    ax.axvline(exp_loss, ls=\"--\", lw=1, c=\"b\", label=label)\n",
    "    label = \"EL(x={:.2f}) = {:,.2f}\".format(p,max_pct)\n",
    "    ax.axvline(max_pct, ls=\"--\", lw=1, c=\"k\", label=label)\n",
    "    ax.set_ylabel(\"Density\", fontsize=12)\n",
    "    ax.set_xlabel(\"Loss\", fontsize=12)\n",
    "    ax.set_title(\"Economic Capital = {:,.2f}\".format(capital))\n",
    "    ax.legend(loc=\"best\", fontsize=12)\n",
    "    ax.set_ylim(0, ax.get_ylim()[1]/0.7)\n",
    "    plt.tight_layout()\n",
    "    return ax"
   ]
  },
  {
   "cell_type": "code",
   "execution_count": 84,
   "id": "e3013de1",
   "metadata": {},
   "outputs": [
    {
     "data": {
      "text/plain": [
       "0.42916741791713775"
      ]
     },
     "execution_count": 84,
     "metadata": {},
     "output_type": "execute_result"
    }
   ],
   "source": [
    "p = X[\"f90+ever\"].mean()\n",
    "np.sqrt((1-p)*p)"
   ]
  },
  {
   "cell_type": "code",
   "execution_count": 87,
   "id": "99def260",
   "metadata": {},
   "outputs": [],
   "source": [
    "def cal_ecocap(pd_mean, pd_std, p=99, os=1, random_state=0):\n",
    "    rnd = np.random.RandomState(random_state)\n",
    "    losses   = rnd.normal(mean, std, size=10000)-1\n",
    "    losses   = np.clip(losses, 0, 1) * os\n",
    "    exp_loss = np.mean(losses)\n",
    "    max_pct  = np.percentile(losses, p)\n",
    "    capital  = max_pct - exp_loss\n",
    "    return capital"
   ]
  },
  {
   "cell_type": "code",
   "execution_count": 89,
   "id": "23e58fc7",
   "metadata": {},
   "outputs": [
    {
     "data": {
      "text/plain": [
       "<AxesSubplot:title={'center':'Economic Capital = 0.23'}, xlabel='Loss', ylabel='Density'>"
      ]
     },
     "execution_count": 89,
     "metadata": {},
     "output_type": "execute_result"
    },
    {
     "data": {
      "image/png": "[encoded data removed]",
      "text/plain": [
       "<Figure size 432x288 with 1 Axes>"
      ]
     },
     "metadata": {
      "needs_background": "light"
     },
     "output_type": "display_data"
    }
   ],
   "source": [
    "EcoCapital(p, 0.429, os=1)"
   ]
  },
  {
   "cell_type": "code",
   "execution_count": 156,
   "id": "932b57c0",
   "metadata": {},
   "outputs": [
    {
     "data": {
      "text/plain": [
       "(array([1.700e+01, 6.700e+01, 3.040e+02, 7.370e+02, 1.302e+03, 1.618e+03,\n",
       "        1.673e+03, 1.548e+03, 1.059e+03, 7.690e+02, 4.230e+02, 2.330e+02,\n",
       "        1.280e+02, 6.800e+01, 3.000e+01, 1.300e+01, 5.000e+00, 5.000e+00,\n",
       "        0.000e+00, 1.000e+00]),\n",
       " array([0.  , 0.05, 0.1 , 0.15, 0.2 , 0.25, 0.3 , 0.35, 0.4 , 0.45, 0.5 ,\n",
       "        0.55, 0.6 , 0.65, 0.7 , 0.75, 0.8 , 0.85, 0.9 , 0.95, 1.  ]),\n",
       " <BarContainer object of 20 artists>)"
      ]
     },
     "execution_count": 156,
     "metadata": {},
     "output_type": "execute_result"
    },
    {
     "data": {
      "image/png": "[encoded data removed]",
      "text/plain": [
       "<Figure size 432x288 with 1 Axes>"
      ]
     },
     "metadata": {
      "needs_background": "light"
     },
     "output_type": "display_data"
    }
   ],
   "source": [
    "rnd = np.random.RandomState(20)\n",
    "p = 0.03\n",
    "a = rnd.lognormal(p, np.sqrt((1-p)*p), size=10000)\n",
    "c = (a - min(a))/(max(a)-min(a))\n",
    "plt.hist(c, bins=20)"
   ]
  },
  {
   "cell_type": "code",
   "execution_count": 160,
   "id": "9ddf1b47",
   "metadata": {},
   "outputs": [
    {
     "data": {
      "text/html": [
       "<div>\n",
       "<style scoped>\n",
       "    .dataframe tbody tr th:only-of-type {\n",
       "        vertical-align: middle;\n",
       "    }\n",
       "\n",
       "    .dataframe tbody tr th {\n",
       "        vertical-align: top;\n",
       "    }\n",
       "\n",
       "    .dataframe thead th {\n",
       "        text-align: right;\n",
       "    }\n",
       "</style>\n",
       "<table border=\"1\" class=\"dataframe\">\n",
       "  <thead>\n",
       "    <tr style=\"text-align: right;\">\n",
       "      <th></th>\n",
       "      <th>opn_mth</th>\n",
       "      <th>f90+ever</th>\n",
       "      <th>lmt_amt</th>\n",
       "      <th>EAD</th>\n",
       "    </tr>\n",
       "  </thead>\n",
       "  <tbody>\n",
       "    <tr>\n",
       "      <th>0</th>\n",
       "      <td>202203</td>\n",
       "      <td>0</td>\n",
       "      <td>1000000.0</td>\n",
       "      <td>0.0</td>\n",
       "    </tr>\n",
       "    <tr>\n",
       "      <th>1</th>\n",
       "      <td>202203</td>\n",
       "      <td>0</td>\n",
       "      <td>1000000.0</td>\n",
       "      <td>0.0</td>\n",
       "    </tr>\n",
       "    <tr>\n",
       "      <th>2</th>\n",
       "      <td>202203</td>\n",
       "      <td>0</td>\n",
       "      <td>1000000.0</td>\n",
       "      <td>0.0</td>\n",
       "    </tr>\n",
       "    <tr>\n",
       "      <th>3</th>\n",
       "      <td>202203</td>\n",
       "      <td>0</td>\n",
       "      <td>1000000.0</td>\n",
       "      <td>0.0</td>\n",
       "    </tr>\n",
       "    <tr>\n",
       "      <th>4</th>\n",
       "      <td>202203</td>\n",
       "      <td>0</td>\n",
       "      <td>1000000.0</td>\n",
       "      <td>0.0</td>\n",
       "    </tr>\n",
       "    <tr>\n",
       "      <th>...</th>\n",
       "      <td>...</td>\n",
       "      <td>...</td>\n",
       "      <td>...</td>\n",
       "      <td>...</td>\n",
       "    </tr>\n",
       "    <tr>\n",
       "      <th>344572</th>\n",
       "      <td>202112</td>\n",
       "      <td>0</td>\n",
       "      <td>88000.0</td>\n",
       "      <td>0.0</td>\n",
       "    </tr>\n",
       "    <tr>\n",
       "      <th>344573</th>\n",
       "      <td>202112</td>\n",
       "      <td>0</td>\n",
       "      <td>88000.0</td>\n",
       "      <td>0.0</td>\n",
       "    </tr>\n",
       "    <tr>\n",
       "      <th>344574</th>\n",
       "      <td>202112</td>\n",
       "      <td>0</td>\n",
       "      <td>88000.0</td>\n",
       "      <td>0.0</td>\n",
       "    </tr>\n",
       "    <tr>\n",
       "      <th>344575</th>\n",
       "      <td>202112</td>\n",
       "      <td>0</td>\n",
       "      <td>88000.0</td>\n",
       "      <td>0.0</td>\n",
       "    </tr>\n",
       "    <tr>\n",
       "      <th>344576</th>\n",
       "      <td>202112</td>\n",
       "      <td>0</td>\n",
       "      <td>88000.0</td>\n",
       "      <td>0.0</td>\n",
       "    </tr>\n",
       "  </tbody>\n",
       "</table>\n",
       "<p>344577 rows × 4 columns</p>\n",
       "</div>"
      ],
      "text/plain": [
       "        opn_mth  f90+ever    lmt_amt  EAD\n",
       "0        202203         0  1000000.0  0.0\n",
       "1        202203         0  1000000.0  0.0\n",
       "2        202203         0  1000000.0  0.0\n",
       "3        202203         0  1000000.0  0.0\n",
       "4        202203         0  1000000.0  0.0\n",
       "...         ...       ...        ...  ...\n",
       "344572   202112         0    88000.0  0.0\n",
       "344573   202112         0    88000.0  0.0\n",
       "344574   202112         0    88000.0  0.0\n",
       "344575   202112         0    88000.0  0.0\n",
       "344576   202112         0    88000.0  0.0\n",
       "\n",
       "[344577 rows x 4 columns]"
      ]
     },
     "execution_count": 160,
     "metadata": {},
     "output_type": "execute_result"
    }
   ],
   "source": [
    "a = X[[\"opn_mth\",\"f90+ever\",\"lmt_amt\"]].copy()\n",
    "a[\"EAD\"] = np.where(a[\"f90+ever\"]==0,0,a[\"lmt_amt\"])\n",
    "a"
   ]
  },
  {
   "cell_type": "code",
   "execution_count": 154,
   "id": "7f09c264",
   "metadata": {},
   "outputs": [
    {
     "data": {
      "text/plain": [
       "188423.3054138549"
      ]
     },
     "execution_count": 154,
     "metadata": {},
     "output_type": "execute_result"
    }
   ],
   "source": [
    "np.sqrt(a[\"ff\"].values.sum())"
   ]
  },
  {
   "cell_type": "code",
   "execution_count": 112,
   "id": "4ff6092b",
   "metadata": {},
   "outputs": [
    {
     "data": {
      "text/plain": [
       "0.0071336448530108995"
      ]
     },
     "execution_count": 112,
     "metadata": {},
     "output_type": "execute_result"
    }
   ],
   "source": [
    "np.std(a)"
   ]
  },
  {
   "cell_type": "code",
   "execution_count": 129,
   "id": "dd85db6a",
   "metadata": {},
   "outputs": [
    {
     "data": {
      "text/plain": [
       "0.0196"
      ]
     },
     "execution_count": 129,
     "metadata": {},
     "output_type": "execute_result"
    }
   ],
   "source": [
    "(1-0.02)*0.02"
   ]
  },
  {
   "cell_type": "code",
   "execution_count": 128,
   "id": "91034354",
   "metadata": {},
   "outputs": [
    {
     "data": {
      "text/plain": [
       "0.9542953456475972"
      ]
     },
     "execution_count": 128,
     "metadata": {},
     "output_type": "execute_result"
    }
   ],
   "source": [
    "loan[\"otsnd_bal\"].sum()/loan[\"lmt_amt\"].sum()"
   ]
  },
  {
   "cell_type": "code",
   "execution_count": 135,
   "id": "fbb50acd",
   "metadata": {},
   "outputs": [],
   "source": [
    "sigma = np.diagflat([2.5,1.8,4.8])\n",
    "rho  = np.diagflat([1,1,1])"
   ]
  },
  {
   "cell_type": "code",
   "execution_count": 138,
   "id": "3e0a8402",
   "metadata": {},
   "outputs": [
    {
     "data": {
      "text/plain": [
       "array([[ 6.25,  0.  ,  0.  ],\n",
       "       [ 0.  ,  3.24,  0.  ],\n",
       "       [ 0.  ,  0.  , 23.04]])"
      ]
     },
     "execution_count": 138,
     "metadata": {},
     "output_type": "execute_result"
    }
   ],
   "source": [
    "sigma.dot(sigma).su"
   ]
  },
  {
   "cell_type": "code",
   "execution_count": 153,
   "id": "790fbf99",
   "metadata": {},
   "outputs": [
    {
     "data": {
      "text/plain": [
       "5.70350769263968"
      ]
     },
     "execution_count": 153,
     "metadata": {},
     "output_type": "execute_result"
    }
   ],
   "source": [
    "np.sqrt((sigma**2).sum())"
   ]
  },
  {
   "cell_type": "code",
   "execution_count": 145,
   "id": "099532ef",
   "metadata": {},
   "outputs": [
    {
     "data": {
      "text/plain": [
       "array([[1. , 0.5, 0.5],\n",
       "       [0.5, 1. , 0.5],\n",
       "       [0.5, 0.5, 1. ]])"
      ]
     },
     "execution_count": 145,
     "metadata": {},
     "output_type": "execute_result"
    }
   ],
   "source": [
    "np.where(rho==0,0.5,rho)\n"
   ]
  },
  {
   "cell_type": "code",
   "execution_count": 168,
   "id": "f5dfddb8",
   "metadata": {},
   "outputs": [
    {
     "data": {
      "text/plain": [
       "852.21"
      ]
     },
     "execution_count": 168,
     "metadata": {},
     "output_type": "execute_result"
    }
   ],
   "source": [
    "1671*0.51"
   ]
  },
  {
   "cell_type": "code",
   "execution_count": 166,
   "id": "1e317006",
   "metadata": {},
   "outputs": [
    {
     "data": {
      "text/plain": [
       "5920"
      ]
     },
     "execution_count": 166,
     "metadata": {},
     "output_type": "execute_result"
    }
   ],
   "source": [
    "6087-167"
   ]
  },
  {
   "cell_type": "code",
   "execution_count": 164,
   "id": "39491b67",
   "metadata": {},
   "outputs": [
    {
     "data": {
      "text/plain": [
       "0.08825859610204405"
      ]
     },
     "execution_count": 164,
     "metadata": {},
     "output_type": "execute_result"
    }
   ],
   "source": [
    "5920/18933"
   ]
  },
  {
   "cell_type": "code",
   "execution_count": 167,
   "id": "444e6013",
   "metadata": {},
   "outputs": [
    {
     "data": {
      "text/plain": [
       "0.31169378191965463"
      ]
     },
     "execution_count": 167,
     "metadata": {},
     "output_type": "execute_result"
    }
   ],
   "source": [
    "5920/18993"
   ]
  },
  {
   "cell_type": "code",
   "execution_count": null,
   "id": "f716cc03",
   "metadata": {},
   "outputs": [],
   "source": []
  }
 ],
 "metadata": {
  "kernelspec": {
   "display_name": "Python 3 (ipykernel)",
   "language": "python",
   "name": "python3"
  },
  "language_info": {
   "codemirror_mode": {
    "name": "ipython",
    "version": 3
   },
   "file_extension": ".py",
   "mimetype": "text/x-python",
   "name": "python",
   "nbconvert_exporter": "python",
   "pygments_lexer": "ipython3",
   "version": "3.9.12"
  }
 },
 "nbformat": 4,
 "nbformat_minor": 5
}
