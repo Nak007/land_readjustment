{
 "cells": [
  {
   "cell_type": "code",
   "execution_count": 77,
   "id": "be93d0e4",
   "metadata": {},
   "outputs": [],
   "source": [
    "import pandas as pd, numpy as np, os\n",
    "from scipy.optimize import minimize\n",
    "from functools import partial\n",
    "import matplotlib.pyplot as plt\n",
    "import matplotlib as mpl\n",
    "import matplotlib.ticker as ticker\n",
    "from matplotlib.ticker import(FixedLocator, FixedFormatter, \n",
    "                              StrMethodFormatter, FuncFormatter)\n",
    "\n",
    "# %matplotlib notebook\n",
    "mpl.rcParams['lines.linewidth'] = 4\n",
    "mpl.rcParams['lines.solid_capstyle'] = 'round'\n",
    "mpl.rcParams['axes.spines.right'] = False\n",
    "mpl.rcParams['axes.spines.top'] = False\n",
    "mpl.rcParams['figure.figsize'] = [6.5, 4.5]\n",
    "mpl.rcParams['axes.grid'] = False\n",
    "pd.options.display.max_rows = 1000\n",
    "pd.options.display.max_columns = 1000"
   ]
  },
  {
   "cell_type": "code",
   "execution_count": null,
   "id": "33fcf2f3",
   "metadata": {},
   "outputs": [],
   "source": []
  },
  {
   "cell_type": "markdown",
   "id": "b1587116",
   "metadata": {},
   "source": [
    "Let’s suppose an investor considers 5 risky assets. The covariance matrix, and the average returns of these assets are: $k_1$ = 1.90%, $k_2$ = 1.30%, $k_3$ = 1.00%, $k_4$ = 1.52%, and $k_5$ = 1.30%. Let’s also assume $R_f$ = 0.5%."
   ]
  },
  {
   "cell_type": "code",
   "execution_count": 5,
   "id": "50d9c821",
   "metadata": {},
   "outputs": [],
   "source": [
    "k = np.r_[0.0190, 0.0130, 0.0100, 0.0152, 0.0130].reshape(-1,1)"
   ]
  },
  {
   "cell_type": "code",
   "execution_count": 63,
   "id": "6be4140f",
   "metadata": {},
   "outputs": [],
   "source": [
    "rf = 0.005"
   ]
  },
  {
   "cell_type": "code",
   "execution_count": 7,
   "id": "47ff81c5",
   "metadata": {},
   "outputs": [],
   "source": [
    "cov  = [[0.056, 0.017, 0.008, 0.023, 0.007],\n",
    "        [0.017, 0.031, 0.009, 0.013, 0.004],\n",
    "        [0.008, 0.009, 0.038, 0.018, 0.002],\n",
    "        [0.023, 0.013, 0.018, 0.032, 0.006],\n",
    "        [0.007, 0.004, 0.002, 0.006, 0.090]]"
   ]
  },
  {
   "cell_type": "code",
   "execution_count": null,
   "id": "a7476485",
   "metadata": {},
   "outputs": [],
   "source": []
  },
  {
   "cell_type": "code",
   "execution_count": null,
   "id": "02cdea7f",
   "metadata": {},
   "outputs": [],
   "source": []
  },
  {
   "cell_type": "code",
   "execution_count": 8,
   "id": "a5d49ca4",
   "metadata": {},
   "outputs": [],
   "source": [
    "def obj_func(w, k, cov):\n",
    "    '''The objective function to be minimized'''\n",
    "    w = w.reshape(-1,1)\n",
    "    k = k.reshape(-1,1)\n",
    "    return 1/abs(float(w.T.dot(k)[0]/\n",
    "                       w.T.dot(cov).dot(w)[0]))"
   ]
  },
  {
   "cell_type": "code",
   "execution_count": 9,
   "id": "717a9678",
   "metadata": {},
   "outputs": [
    {
     "data": {
      "text/plain": [
       "'================================================================='"
      ]
     },
     "execution_count": 9,
     "metadata": {},
     "output_type": "execute_result"
    }
   ],
   "source": [
    "\"=\"*65"
   ]
  },
  {
   "cell_type": "code",
   "execution_count": 12,
   "id": "095aec6c",
   "metadata": {},
   "outputs": [],
   "source": [
    "def MarkowitzPortlolio(cov, k, rf=0):\n",
    "    \n",
    "    '''\n",
    "    =================================================================\n",
    "    \n",
    "    Parameters\n",
    "    ----------\n",
    "    cov : ndarray, shape (n_assets, n_assets)\n",
    "        The covariance matrix of assets.\n",
    "    \n",
    "    k : ndarray, shape (n_assets,)\n",
    "        The average return of assets.\n",
    "    \n",
    "    rf : float, default=0\n",
    "        Risk-Free rate.\n",
    "        \n",
    "    References\n",
    "    ----------\n",
    "    .. [1] https://docs.scipy.org/doc/scipy/reference/generated/\n",
    "           scipy.optimize.minimize.html\n",
    "           \n",
    "    Returns\n",
    "    -------\n",
    "    props : ndarray, shape (n_assets, 3)\n",
    "        Row represents the proportions invested in each asset while\n",
    "        columns represents portfolios as follows:\n",
    "        \n",
    "        [1] \"MVP\"\n",
    "        [2] \"TG0\"\n",
    "        [3] \"TGR\" : a portfolio on the efficient frontier which is \n",
    "        also on the tangent line from the origin.\n",
    "    \n",
    "    rets : ndarray, shape (3,)\n",
    "        Weighted average return of portfolios. \n",
    "    \n",
    "    vars : ndarray, shape (3,)\n",
    "        Variances of portfolios.\n",
    "    \n",
    "    '''\n",
    "    # Minimum Variance Portfolio (MVP)\n",
    "    n_assets = len(k)\n",
    "    ones = np.ones((n_assets,1))\n",
    "    a0 = np.linalg.inv(cov).dot(ones)\n",
    "    a1 = np.linalg.inv(ones.T.dot(a0).T)\n",
    "    MVP = a0.dot(a1).ravel()\n",
    "    \n",
    "    # Parameters for optimization\n",
    "    # https://docs.scipy.org/doc/scipy/reference/generated/\n",
    "    # scipy.optimize.minimize.html\n",
    "    con = {'type':'eq', 'fun': lambda w: 1 - sum(w)}\n",
    "    opt = {\"maxiter\":1000, \"disp\":False}\n",
    "    kwds = {\"x0\" : MVP, \"method\": \"SLSQP\", \n",
    "            \"constraints\":con, \"options\":opt}\n",
    "    \n",
    "    # Tangent Portfolio from origin\n",
    "    fns = [partial(obj_func, k=k-c, cov=cov) for c in [0,rf]]\n",
    "    TGs = [minimize(**{**kwds,**{\"fun\":f}}).x for f in fns]\n",
    "    props = np.vstack(([MVP] + TGs)).T\n",
    "    \n",
    "    # Weighted average returns and Variances\n",
    "    rets = k.reshape(1,-1).dot(props).ravel()\n",
    "    vols = props.T.dot(cov).dot(props)[np.identity(3)==1]\n",
    "    \n",
    "    return props, rets, vols"
   ]
  },
  {
   "cell_type": "code",
   "execution_count": 64,
   "id": "844ac5ee",
   "metadata": {},
   "outputs": [],
   "source": [
    "props, rets, vols = MarkowitzPortlolio(cov, k, rf)"
   ]
  },
  {
   "cell_type": "code",
   "execution_count": 65,
   "id": "3fe5c048",
   "metadata": {},
   "outputs": [
    {
     "data": {
      "text/plain": [
       "array([[0.07812223, 0.14651433, 0.18450608],\n",
       "       [0.34383498, 0.30697032, 0.28652139],\n",
       "       [0.26830746, 0.18548815, 0.13952231],\n",
       "       [0.15800344, 0.21501813, 0.2466515 ],\n",
       "       [0.1517319 , 0.14600907, 0.14279871]])"
      ]
     },
     "execution_count": 65,
     "metadata": {},
     "output_type": "execute_result"
    }
   ],
   "source": [
    "props"
   ]
  },
  {
   "cell_type": "code",
   "execution_count": 28,
   "id": "ed19b33c",
   "metadata": {},
   "outputs": [],
   "source": [
    "def EfficientFrontier(mvp, tgn, k, cov, n_steps=10, bound=(0,1)):\n",
    "    \n",
    "    '''\n",
    "    =================================================================\n",
    "    An efficient frontier is a set of investment portfolios that are \n",
    "    expected to provide the highest returns at a given level of risk.\n",
    "    \n",
    "    Parameters\n",
    "    ----------\n",
    "    \n",
    "    Returns\n",
    "    -------\n",
    "    \n",
    "    '''\n",
    "    # Risk tolerances and corresponding proportion invested\n",
    "    coefs = np.linspace(*bound, n_steps)\n",
    "    props = np.vstack([(1-c)*mvp + c*tgn for c in coefs]).T\n",
    "    \n",
    "    # Weighted average returns and Variances\n",
    "    rets = k.reshape(1,-1).dot(props).ravel()\n",
    "    vols = props.T.dot(cov).dot(props)[np.identity(n_steps)==1]\n",
    "    \n",
    "    return rets, vols"
   ]
  },
  {
   "cell_type": "code",
   "execution_count": null,
   "id": "c9697158",
   "metadata": {},
   "outputs": [],
   "source": [
    "def gini_plot_base(y_true, y_proba, ax=None, n_ticks=6, colors=None, \n",
    "                   plot_kwds=None, fill_kwds=None, tight_layout=True):\n",
    "\n",
    "    '''\n",
    "\n",
    "        \n",
    "    Parameters\n",
    "    ----------\n",
    "    y_true : array-like of shape (n_samples,)\n",
    "        Target array (binary).\n",
    "        \n",
    "    y_proba : array-like of shape (n_samples,)\n",
    "        Probability array.\n",
    "        \n",
    "    ax : Matplotlib axis object, default=None\n",
    "        Predefined Matplotlib axis. If None, ax is created with \n",
    "        default figsize.\n",
    "    \n",
    "    n_ticks : int, default=6\n",
    "        Number of ticks to be displayed on x-axis, and y-axis.\n",
    "        \n",
    "    colors : list of color-hex, default=None\n",
    "        Number of color-hex must be greater than or equal to 2. \n",
    "        If None, it uses default colors from Matplotlib.\n",
    "        \n",
    "    plot_kwds : keywords, default=None\n",
    "        Keyword arguments to be passed to \"ax.plot\". If None, it uses \n",
    "        default settings.\n",
    "        \n",
    "    fill_kwds : keywords, default=None\n",
    "        Keyword arguments to be passed to \"ax.fill_between\". If None, \n",
    "        it uses default settings.\n",
    "        \n",
    "    tight_layout : bool, default=True\n",
    "        If True, it adjusts the padding between and around subplots \n",
    "        i.e. plt.tight_layout().\n",
    "    \n",
    "    References\n",
    "    ----------\n",
    "    .. [1] ROC curve, https://en.wikipedia.org/wiki/Receiver_operating\n",
    "           _characteristic\n",
    "    .. [2] https://towardsdatascience.com/using-the-gini-coefficient-\n",
    "           to-evaluate-the-performance-of-credit-score-models-\n",
    "           59fe13ef420\n",
    "    Returns\n",
    "    -------\n",
    "    ax : Matplotlib axis object  \n",
    "            \n",
    "    '''\n",
    "    \n",
    "    # =============================================================\n",
    "    if ax is None: ax = plt.subplots(figsize=(6.5, 4))[1] \n",
    "    colors = ([ax._get_lines.get_next_color()] * 2 \n",
    "              if colors is None else colors)\n",
    "    # -------------------------------------------------------------\n",
    "    bins = np.percentile(y_proba, np.arange(101))\n",
    "    bins = np.unique(np.r_[[0,1], bins])\n",
    "    cfm = np.array([confusion_matrix(y_true, (y_proba>=c)).ravel() \n",
    "                    for c in bins])\n",
    "    fpr = cfm[:,1] / cfm[:,[0,1]].sum(1)\n",
    "    tpr = cfm[:,3] / cfm[:,[2,3]].sum(1)\n",
    "    auc  = roc_auc_score(y_true, y_proba)\n",
    "    gini = 2 * auc - 1\n",
    "    # =============================================================\n",
    "    \n",
    "    # =============================================================\n",
    "    default = {'color' : colors[0], 'linewidth' : 2.5}\n",
    "    plot_kwds = (default if plot_kwds is None \n",
    "                 else {**default, **plot_kwds})\n",
    "    # -------------------------------------------------------------\n",
    "    default = {'alpha':0.2 , 'color':colors[1], 'y1':tpr, 'y2':fpr}\n",
    "    fill_kwds = (default if fill_kwds is None \n",
    "                 else {**default, **fill_kwds})\n",
    "    # -------------------------------------------------------------\n",
    "    label = 'ROC ({:,.2%})'.format(auc)\n",
    "    ax.plot(fpr, tpr, **{**plot_kwds, **{'label' : label}})\n",
    "    label = 'Gini ({:,.2%})'.format(gini)\n",
    "    ax.fill_between(fpr, **{**fill_kwds, **{'label' : label}})\n",
    "    ax.plot([0,1], [0,1], **dict(ls=\"--\", lw=1, color=\"grey\", \n",
    "                                 label = 'Random Classifier'))\n",
    "    # =============================================================\n",
    "\n",
    "    # Set other attributes.\n",
    "    # =============================================================\n",
    "    t = ticker.PercentFormatter(xmax=1)\n",
    "    ax.xaxis.set_major_formatter(t)\n",
    "    ax.yaxis.set_major_formatter(t)\n",
    "    ax.yaxis.set_major_locator(mpl.ticker.MaxNLocator(n_ticks))\n",
    "    ax.xaxis.set_major_locator(mpl.ticker.MaxNLocator(n_ticks))\n",
    "    # -------------------------------------------------------------\n",
    "    ax.set_xlabel('False Positive Rate', fontsize=13)\n",
    "    ax.set_ylabel('True Positive Rate', fontsize=13)\n",
    "    ax.spines[\"right\"].set_visible(False)\n",
    "    ax.spines[\"top\"].set_visible(False)\n",
    "    ax.set_facecolor('white')\n",
    "    ax.patch.set_alpha(0)\n",
    "    ax.tick_params(axis='both', labelsize=10.5)\n",
    "    # -------------------------------------------------------------\n",
    "    args = (ax.transAxes, ax.transAxes)\n",
    "    transform = transforms.blended_transform_factory(*args)\n",
    "    ax.text(0, 1.01, \"f(x)\", fontsize=13, va='bottom', ha=\"center\", \n",
    "            transform=transform)\n",
    "    ax.text(1.01, 0, \"g(x)\", fontsize=13, va='center', ha=\"left\", \n",
    "            transform=transform)\n",
    "    # -------------------------------------------------------------\n",
    "    ax.legend(loc='best', edgecolor=\"none\", borderaxespad=0., \n",
    "              columnspacing=0.3,handletextpad=0.5,markerscale=1.5,\n",
    "              prop=dict(size=12), bbox_to_anchor=(1.0, 0.5)) \n",
    "    if tight_layout: plt.tight_layout()\n",
    "    # =============================================================\n",
    "    \n",
    "    return ax"
   ]
  },
  {
   "cell_type": "code",
   "execution_count": 55,
   "id": "3d2f7b76",
   "metadata": {},
   "outputs": [],
   "source": [
    "a,b = EfficientFrontier(props[:,0], props[:,1], k, cov, bound=(-0.5,1.8), n_steps=20)"
   ]
  },
  {
   "cell_type": "code",
   "execution_count": 84,
   "id": "d1c44f8d",
   "metadata": {},
   "outputs": [
    {
     "data": {
      "image/png": "[encoded data removed]",
      "text/plain": [
       "<Figure size 468x324 with 1 Axes>"
      ]
     },
     "metadata": {
      "needs_background": "light"
     },
     "output_type": "display_data"
    }
   ],
   "source": [
    "ax = plt.subplots()[1]\n",
    "ax.plot(b,a, c=\"grey\", zorder=-1, label=\"Efficient Frontier\")\n",
    "ax.scatter(vols[0], rets[0], marker=\"o\", s=100, fc=\"b\", ec=\"grey\", \n",
    "           label=\"MVP\")\n",
    "ax.scatter(vols[1], rets[1], marker=\"o\", s=100, fc=\"g\", ec=\"grey\", \n",
    "           label=\"TG(r=0)\")\n",
    "ax.scatter(vols[2], rets[2], marker=\"o\", s=100, fc=\"r\", ec=\"grey\", \n",
    "           label=\"TG(r=0.5%)\")\n",
    "ax.set_ylim(*ax.get_ylim())\n",
    "ax.set_xlim(*ax.get_xlim())\n",
    "ax.axline((0, 0), (vols[1], rets[1]),  c=\"g\", \n",
    "          lw=2, ls=\"--\", label=\"CML(r=0)\")\n",
    "ax.axline((0, 0.005), (vols[2], rets[2]),  c=\"r\", \n",
    "          lw=2, ls=\"--\", label=\"CML(r=0.5%)\")\n",
    "\n",
    "ax.set_xlabel(\"Volatility\", fontsize=12)\n",
    "ax.set_ylabel(\"Expected return\", fontsize=12)\n",
    "ax.legend(loc=\"best\", fontsize=12, framealpha=0)\n",
    "\n",
    "n_ticks = 6\n",
    "\n",
    "t = ticker.PercentFormatter(xmax=1)\n",
    "ax.yaxis.set_major_formatter(t)\n",
    "ax.xaxis.set_major_formatter(t)\n",
    "ax.yaxis.set_major_locator(mpl.ticker.MaxNLocator(n_ticks))\n",
    "ax.xaxis.set_major_locator(mpl.ticker.MaxNLocator(n_ticks))\n",
    "ax.tick_params(axis='both', labelsize=10.5)\n",
    "\n",
    "ax.legend(loc='best', edgecolor=\"none\", borderaxespad=0., \n",
    "              columnspacing=0.3,handletextpad=0.5,markerscale=1.,\n",
    "              prop=dict(size=12), bbox_to_anchor=(1.0, 0.5))\n",
    "plt.tight_layout()\n",
    "plt.show()"
   ]
  },
  {
   "cell_type": "code",
   "execution_count": 69,
   "id": "15db62f3",
   "metadata": {},
   "outputs": [
    {
     "data": {
      "text/plain": [
       "Text(0, 0.5, 'Sharpe Ratio')"
      ]
     },
     "execution_count": 69,
     "metadata": {},
     "output_type": "execute_result"
    },
    {
     "data": {
      "image/png": "[encoded data removed]",
      "text/plain": [
       "<Figure size 468x324 with 1 Axes>"
      ]
     },
     "metadata": {
      "needs_background": "light"
     },
     "output_type": "display_data"
    }
   ],
   "source": [
    "plt.plot(b,a/b)\n",
    "plt.axvline(b[np.argmax(a/b)])\n",
    "plt.ylabel(\"Sharpe Ratio\")"
   ]
  },
  {
   "cell_type": "code",
   "execution_count": null,
   "id": "581822e3",
   "metadata": {},
   "outputs": [],
   "source": []
  },
  {
   "cell_type": "code",
   "execution_count": null,
   "id": "2ea45a47",
   "metadata": {},
   "outputs": [],
   "source": []
  },
  {
   "cell_type": "code",
   "execution_count": null,
   "id": "3bc32956",
   "metadata": {},
   "outputs": [],
   "source": []
  },
  {
   "cell_type": "code",
   "execution_count": null,
   "id": "1863820d",
   "metadata": {},
   "outputs": [],
   "source": []
  },
  {
   "cell_type": "markdown",
   "id": "e5bb6a7b",
   "metadata": {},
   "source": [
    "## Weights of asset (stacked)"
   ]
  },
  {
   "cell_type": "code",
   "execution_count": null,
   "id": "a79e6566",
   "metadata": {},
   "outputs": [],
   "source": []
  }
 ],
 "metadata": {
  "kernelspec": {
   "display_name": "Python 3 (ipykernel)",
   "language": "python",
   "name": "python3"
  },
  "language_info": {
   "codemirror_mode": {
    "name": "ipython",
    "version": 3
   },
   "file_extension": ".py",
   "mimetype": "text/x-python",
   "name": "python",
   "nbconvert_exporter": "python",
   "pygments_lexer": "ipython3",
   "version": "3.9.12"
  }
 },
 "nbformat": 4,
 "nbformat_minor": 5
}
