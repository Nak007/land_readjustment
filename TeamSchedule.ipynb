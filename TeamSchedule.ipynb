{
 "cells": [
  {
   "cell_type": "markdown",
   "id": "6215db53",
   "metadata": {},
   "source": [
    "### Team Schedule"
   ]
  },
  {
   "cell_type": "code",
   "execution_count": 1,
   "id": "47b6eb9d",
   "metadata": {},
   "outputs": [],
   "source": [
    "# Import libraries.\n",
    "import pandas as pd, numpy as np, os\n",
    "from pandas import Timestamp\n",
    "from ipywidgets import interact, fixed, IntSlider, Button\n",
    "from datetime import date, datetime \n",
    "import matplotlib.pyplot as plt\n",
    "from openpyxl import load_workbook\n",
    "from Gantt_plot import *\n",
    "pd.options.display.float_format = '{:,.3f}'.format"
   ]
  },
  {
   "cell_type": "code",
   "execution_count": 2,
   "id": "c8f3592d",
   "metadata": {},
   "outputs": [],
   "source": [
    "xlsm = \"Work Schedule.xlsm\""
   ]
  },
  {
   "cell_type": "code",
   "execution_count": 3,
   "id": "1607b4a9",
   "metadata": {},
   "outputs": [],
   "source": [
    "# All sheetnames in workbook.\n",
    "wb = load_workbook(xlsm, read_only=True, keep_links=False)\n",
    "sh_names = [w for w in wb.sheetnames if w not in [\"Team\"]]\n",
    "wb.close()\n",
    "\n",
    "data = dict()\n",
    "for sh_name in sh_names:\n",
    "    df = pd.read_excel(xlsm, sheet_name=sh_name)\n",
    "    if sh_name==\"schedule\":\n",
    "        # Schedule: ongoing project only\n",
    "        df = df.drop(columns=[\"start_date\",\"days\"]).fillna(0)\n",
    "        df = df.loc[df[\"type\"].isin([\"Project\"]) & \n",
    "                    (df[\"completion\"]<1)].reset_index(drop=True)\n",
    "        data[sh_name] = df.to_dict()\n",
    "    elif sh_name==\"PublicHolidays\":\n",
    "        # Public holidays\n",
    "        data[sh_name] = np.array(df.drop(columns=[\"Holiday\"]), \n",
    "                                 dtype=\"datetime64[D]\").ravel()\n",
    "    else: data[sh_name] = df.to_dict()"
   ]
  },
  {
   "cell_type": "markdown",
   "id": "f7fe8805",
   "metadata": {},
   "source": [
    "## Master Schedule"
   ]
  },
  {
   "cell_type": "code",
   "execution_count": 4,
   "id": "b18ab492",
   "metadata": {},
   "outputs": [],
   "source": [
    "def interactive_gantt(df, ref_date, holidays, show_delta, \n",
    "                      backward, foward, incr):\n",
    "    \n",
    "    '''Interactive gantt plot (Master schedule)'''\n",
    "    df = pd.DataFrame(df)\n",
    "    date = Timestamp(ref_date) + np.timedelta64(incr,\"D\")\n",
    "    min_date, max_date = df[\"start\"].min(), df[\"end\"].max()\n",
    "    start_date = max(date - np.timedelta64(backward,\"D\"), min_date).date()\n",
    "    end_date   = min(date + np.timedelta64(foward  ,\"D\"), max_date).date()\n",
    "    print(start_date)\n",
    "    print(end_date)\n",
    "\n",
    "    X = create_schedule(df.copy(), ref_date, holidays=holidays)\n",
    "    X = X.sort_values(by=\"start\", ascending=False).reset_index(drop=True)\n",
    "    \n",
    "    colors = [\"#1B9CFC\",\"#55E6C1\",\"#FC427B\",\"#82589F\",\"#FEA47F\"]\n",
    "    ax = gantt_plot(X, ref_date=ref_date, holidays=holidays, \n",
    "                    show_delta=show_delta, colors=colors, \n",
    "                    start_date=start_date, end_date=end_date)\n",
    "    legend = ax.get_legend()\n",
    "    legend.set_bbox_to_anchor([1.1,0.8], transform=ax.transAxes)\n",
    "\n",
    "kwargs = dict(df=fixed(data[\"schedule\"]), \n",
    "              ref_date=fixed(date.today()), \n",
    "              show_delta=[False, True], \n",
    "              holidays=fixed(data[\"PublicHolidays\"]), \n",
    "              backward=IntSlider(min=1, max=30, step=2, value=15), \n",
    "              foward=IntSlider(min=1, max=30, step=2, value=15),\n",
    "              incr=IntSlider(min=-30, max=30, step=2, value=0))"
   ]
  },
  {
   "cell_type": "markdown",
   "id": "4df68628",
   "metadata": {},
   "source": [
    "## Project Schedule"
   ]
  },
  {
   "cell_type": "code",
   "execution_count": 5,
   "id": "362d36fb",
   "metadata": {},
   "outputs": [],
   "source": [
    "def interactive_project(data, task, ref_date, holidays, \n",
    "                        show_delta, backward, foward, incr):\n",
    "    \n",
    "    a = pd.DataFrame(data[\"schedule\"])\n",
    "    a = a.loc[a[\"task\"]==task]\n",
    "    ref_id = a[\"ref_id\"].values[0]\n",
    "\n",
    "    try:\n",
    "        print(\"Project: \",a[\"task\"].values[0])\n",
    "        print(\"ref_id : \",a[\"ref_id\"].values[0])\n",
    "        print(\"== Description ==\")\n",
    "        for s in str(a[\"description\"].values[0]).split(\"\\n\"):\n",
    "            print(s)\n",
    "    except: pass\n",
    "\n",
    "    if ref_id in list(data.keys()):\n",
    "        df = pd.DataFrame(data[a[\"ref_id\"].values[0]])   \n",
    "        df = create_schedule(df, ref_date, holidays)\n",
    "        df = df.sort_index(ascending=False).reset_index(drop=True)\n",
    "\n",
    "        date = Timestamp(ref_date) + np.timedelta64(incr,\"D\")\n",
    "        min_date, max_date = df[\"start\"].min(), df[\"end\"].max()\n",
    "        start_date = max(date - np.timedelta64(backward,\"D\"), min_date)\n",
    "        end_date   = min(date + np.timedelta64(foward  ,\"D\"), max_date)\n",
    "\n",
    "        colors = [\"#1B9CFC\",\"#55E6C1\",\"#FC427B\",\"#82589F\",\"#FEA47F\"]\n",
    "        ax = gantt_plot(df, ref_date=ref_date, holidays=holidays, \n",
    "                        show_delta=show_delta, colors=colors, \n",
    "                        start_date=start_date, end_date=end_date)\n",
    "        legend = ax.get_legend()\n",
    "        legend.set_bbox_to_anchor([1.1,0.8], transform=ax.transAxes)\n",
    "    else:\n",
    "        print(\"\\n\")\n",
    "        print(\"< Project details cannot be found. >\")\n",
    "\n",
    "kwargs = dict(data=fixed(data), \n",
    "              task=list(data[\"schedule\"][\"task\"].values()),\n",
    "              ref_date=fixed(date.today()), \n",
    "              show_delta=[False, True], \n",
    "              holidays=fixed(data[\"PublicHolidays\"]), \n",
    "              backward=IntSlider(min=1, max=100, step=2, value=50), \n",
    "              foward=IntSlider(min=1, max=100, step=2, value=50),\n",
    "              incr=IntSlider(min=-30, max=30, step=2, value=0), \n",
    "              xxx=Button(description=\"Prev Holiday\"))"
   ]
  },
  {
   "cell_type": "code",
   "execution_count": 6,
   "id": "e139bbdd",
   "metadata": {
    "scrolled": false
   },
   "outputs": [
    {
     "data": {
      "application/vnd.jupyter.widget-view+json": {
       "model_id": "125d72af209b42e0bdd17aac3e709fd6",
       "version_major": 2,
       "version_minor": 0
      },
      "text/plain": [
       "interactive(children=(Dropdown(description='task', options=('DPD Monitoring Report rev3', 'Pattern D001 improv…"
      ]
     },
     "metadata": {},
     "output_type": "display_data"
    }
   ],
   "source": [
    "ax = interact(interactive_project, **kwargs)"
   ]
  },
  {
   "cell_type": "code",
   "execution_count": null,
   "id": "58ff8b47",
   "metadata": {},
   "outputs": [],
   "source": []
  }
 ],
 "metadata": {
  "kernelspec": {
   "display_name": "Python 3 (ipykernel)",
   "language": "python",
   "name": "python3"
  },
  "language_info": {
   "codemirror_mode": {
    "name": "ipython",
    "version": 3
   },
   "file_extension": ".py",
   "mimetype": "text/x-python",
   "name": "python",
   "nbconvert_exporter": "python",
   "pygments_lexer": "ipython3",
   "version": "3.9.12"
  }
 },
 "nbformat": 4,
 "nbformat_minor": 5
}
