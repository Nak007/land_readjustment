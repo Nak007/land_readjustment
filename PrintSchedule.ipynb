{
 "cells": [
  {
   "cell_type": "code",
   "execution_count": 1,
   "id": "35d3e2c7",
   "metadata": {},
   "outputs": [],
   "source": [
    "# Import libraries.\n",
    "import pandas as pd, numpy as np, os\n",
    "from pandas import Timestamp\n",
    "from datetime import date, datetime \n",
    "from openpyxl import load_workbook\n",
    "import matplotlib.pyplot as plt\n",
    "from Gantt_plot import *\n",
    "pd.options.display.float_format = '{:,.3f}'.format"
   ]
  },
  {
   "cell_type": "code",
   "execution_count": 2,
   "id": "a0429bbd",
   "metadata": {},
   "outputs": [],
   "source": [
    "xlsm = \"Work Schedule.xlsm\""
   ]
  },
  {
   "cell_type": "code",
   "execution_count": 3,
   "id": "3a580334",
   "metadata": {},
   "outputs": [
    {
     "name": "stdout",
     "output_type": "stream",
     "text": [
      "Complete...\n"
     ]
    }
   ],
   "source": [
    "# All sheetnames in workbook.\n",
    "wb = load_workbook(xlsm, read_only=True, keep_links=False)\n",
    "sh_names = [w for w in wb.sheetnames if w not in [\"Team\"]]\n",
    "wb.close()\n",
    "\n",
    "data = dict()\n",
    "for sh_name in sh_names:\n",
    "    df = pd.read_excel(xlsm, sheet_name=sh_name)\n",
    "    if sh_name==\"schedule\":\n",
    "        # Schedule: ongoing project only\n",
    "        df = df.drop(columns=[\"start_date\",\"days\"]).fillna(0)\n",
    "        df = df.loc[df[\"type\"].isin([\"Project\"]) & \n",
    "                    (df[\"completion\"]<1)].reset_index(drop=True)\n",
    "        data[sh_name] = df.to_dict()\n",
    "    elif sh_name==\"PublicHolidays\":\n",
    "        # Public holidays\n",
    "        data[sh_name] = np.array(df.drop(columns=[\"Holiday\"]), \n",
    "                                 dtype=\"datetime64[D]\").ravel()\n",
    "    else: data[sh_name] = df.to_dict()\n",
    "\n",
    "plt.ioff()\n",
    "curdir = os.getcwd()\n",
    "folder = curdir + \"\\\\progress\"\n",
    "if folder.split(\"\\\\\")[-1] not in os.listdir():\n",
    "    os.mkdir(folder)\n",
    "\n",
    "suffix = datetime.now().strftime(\"%Y-%m-%d\")\n",
    "subfolder = f\"{folder}\\\\{suffix}\"\n",
    "if subfolder.split(\"\\\\\")[-1] not in os.listdir(folder):\n",
    "    os.mkdir(f\"{folder}\\\\{suffix}\")\n",
    "    \n",
    "ref_date = Timestamp(date.today())\n",
    "holidays = data[\"PublicHolidays\"]\n",
    "colors = [\"#1B9CFC\",\"#55E6C1\",\"#FC427B\",\"#82589F\",\"#FEA47F\"]\n",
    "\n",
    "# Master schedule\n",
    "df = pd.DataFrame(data[\"schedule\"])\n",
    "date = ref_date + np.timedelta64(0,\"D\")\n",
    "min_date, max_date = df[\"start\"].min(), df[\"end\"].max()\n",
    "start_date = max(date - np.timedelta64(15,\"D\"), min_date)\n",
    "end_date   = min(date + np.timedelta64(15,\"D\"), max_date)\n",
    "\n",
    "X = create_schedule(df.copy(), ref_date, holidays=holidays)\n",
    "X = X.sort_values(by=\"start\", ascending=False).reset_index(drop=True)\n",
    "ax = gantt_plot(X, ref_date=ref_date, holidays=holidays, \n",
    "                colors=colors, start_date=start_date, end_date=end_date)\n",
    "legend = ax.get_legend()\n",
    "legend.set_bbox_to_anchor([1.1,0.8], transform=ax.transAxes)\n",
    "plt.gcf().suptitle(\"Master Schedule\", fontsize=15)\n",
    "plt.tight_layout()\n",
    "plt.savefig(subfolder + f\"\\\\masterschedule_{suffix}.png\", dpi=200)\n",
    "\n",
    "tasks = dict([(a,b) for a,b in zip(data[\"schedule\"][\"ref_id\"].values(),\n",
    "                                   data[\"schedule\"][\"task\"].values())])\n",
    "for project in data[\"schedule\"][\"ref_id\"].values():\n",
    "    if project in data.keys():\n",
    "        df = pd.DataFrame(data[project])   \n",
    "        df = create_schedule(df, ref_date, holidays)\n",
    "        df = df.sort_index(ascending=False).reset_index(drop=True)\n",
    "        ax = gantt_plot(df, ref_date=ref_date, \n",
    "                        holidays=holidays, colors=colors)\n",
    "        xmin, xmax = ax.get_xlim()\n",
    "        ax.set_xlim(xmin-0.5, xmax+0.5)\n",
    "        legend = ax.get_legend()\n",
    "        legend.set_bbox_to_anchor([1.1,0.8], transform=ax.transAxes)\n",
    "        plt.gcf().suptitle(f\"{project}: {tasks[project]}\", fontsize=15)\n",
    "        plt.tight_layout()\n",
    "        plt.savefig(subfolder + f\"\\\\{project}_{suffix}.png\", dpi=200)\n",
    "\n",
    "print(\"Complete...\")"
   ]
  },
  {
   "cell_type": "code",
   "execution_count": null,
   "id": "3b1db31b",
   "metadata": {},
   "outputs": [],
   "source": []
  }
 ],
 "metadata": {
  "kernelspec": {
   "display_name": "Python 3 (ipykernel)",
   "language": "python",
   "name": "python3"
  },
  "language_info": {
   "codemirror_mode": {
    "name": "ipython",
    "version": 3
   },
   "file_extension": ".py",
   "mimetype": "text/x-python",
   "name": "python",
   "nbconvert_exporter": "python",
   "pygments_lexer": "ipython3",
   "version": "3.9.12"
  }
 },
 "nbformat": 4,
 "nbformat_minor": 5
}
